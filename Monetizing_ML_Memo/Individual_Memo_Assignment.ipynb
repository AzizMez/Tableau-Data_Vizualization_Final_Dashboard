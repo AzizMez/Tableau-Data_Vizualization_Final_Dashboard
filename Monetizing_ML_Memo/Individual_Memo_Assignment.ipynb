{
 "cells": [
  {
   "cell_type": "markdown",
   "metadata": {
    "cell_id": "6406286f1dd34234a8567ce77795a46d",
    "deepnote_cell_height": 82,
    "deepnote_cell_type": "markdown"
   },
   "source": [
    "# Notebook Styling: Please do not edit"
   ]
  },
  {
   "cell_type": "code",
   "execution_count": 2,
   "metadata": {
    "cell_id": "1cc2015b62804537bc0f7ecdba10f8ed",
    "deepnote_cell_type": "code",
    "deepnote_to_be_reexecuted": false,
    "execution_millis": 6103,
    "execution_start": 1673120424163,
    "source_hash": "90ce38a6"
   },
   "outputs": [
    {
     "name": "stdout",
     "output_type": "stream",
     "text": [
      "Defaulting to user installation because normal site-packages is not writeable\n",
      "Requirement already satisfied: tensorflow in /usr/local/lib/python3.10/site-packages (2.13.1)\n",
      "Requirement already satisfied: absl-py>=1.0.0 in /usr/local/lib/python3.10/site-packages (from tensorflow) (1.4.0)\n",
      "Requirement already satisfied: astunparse>=1.6.0 in /usr/local/lib/python3.10/site-packages (from tensorflow) (1.6.3)\n",
      "Requirement already satisfied: flatbuffers>=23.1.21 in /usr/local/lib/python3.10/site-packages (from tensorflow) (23.5.26)\n",
      "Requirement already satisfied: gast<=0.4.0,>=0.2.1 in /usr/local/lib/python3.10/site-packages (from tensorflow) (0.4.0)\n",
      "Requirement already satisfied: google-pasta>=0.1.1 in /usr/local/lib/python3.10/site-packages (from tensorflow) (0.2.0)\n",
      "Requirement already satisfied: grpcio<2.0,>=1.24.3 in /usr/local/lib/python3.10/site-packages (from tensorflow) (1.56.2)\n",
      "Requirement already satisfied: h5py>=2.9.0 in /usr/local/lib/python3.10/site-packages (from tensorflow) (3.7.0)\n",
      "Requirement already satisfied: keras<2.14,>=2.13.1 in /usr/local/lib/python3.10/site-packages (from tensorflow) (2.13.1)\n",
      "Requirement already satisfied: libclang>=13.0.0 in /usr/local/lib/python3.10/site-packages (from tensorflow) (14.0.1)\n",
      "Requirement already satisfied: numpy<=1.24.3,>=1.22 in /usr/local/lib/python3.10/site-packages (from tensorflow) (1.23.5)\n",
      "Requirement already satisfied: opt-einsum>=2.3.2 in /usr/local/lib/python3.10/site-packages (from tensorflow) (3.3.0)\n",
      "Requirement already satisfied: packaging in /usr/local/lib/python3.10/site-packages (from tensorflow) (22.0)\n",
      "Requirement already satisfied: protobuf!=4.21.0,!=4.21.1,!=4.21.2,!=4.21.3,!=4.21.4,!=4.21.5,<5.0.0dev,>=3.20.3 in /usr/local/lib/python3.10/site-packages (from tensorflow) (3.20.3)\n",
      "Requirement already satisfied: setuptools in /usr/local/lib/python3.10/site-packages (from tensorflow) (58.1.0)\n",
      "Requirement already satisfied: six>=1.12.0 in /usr/local/lib/python3.10/site-packages (from tensorflow) (1.16.0)\n",
      "Requirement already satisfied: tensorboard<2.14,>=2.13 in /usr/local/lib/python3.10/site-packages (from tensorflow) (2.13.0)\n",
      "Requirement already satisfied: tensorflow-estimator<2.14,>=2.13.0 in /usr/local/lib/python3.10/site-packages (from tensorflow) (2.13.0)\n",
      "Requirement already satisfied: termcolor>=1.1.0 in /usr/local/lib/python3.10/site-packages (from tensorflow) (1.1.0)\n",
      "Requirement already satisfied: typing-extensions<4.6.0,>=3.6.6 in /usr/local/lib/python3.10/site-packages (from tensorflow) (4.5.0)\n",
      "Requirement already satisfied: wrapt>=1.11.0 in /usr/local/lib/python3.10/site-packages (from tensorflow) (1.14.1)\n",
      "Requirement already satisfied: tensorflow-io-gcs-filesystem>=0.23.1 in /usr/local/lib/python3.10/site-packages (from tensorflow) (0.26.0)\n",
      "Requirement already satisfied: wheel<1.0,>=0.23.0 in /usr/local/lib/python3.10/site-packages (from astunparse>=1.6.0->tensorflow) (0.37.1)\n",
      "Requirement already satisfied: google-auth<3,>=1.6.3 in /usr/local/lib/python3.10/site-packages (from tensorboard<2.14,>=2.13->tensorflow) (2.16.2)\n",
      "Requirement already satisfied: google-auth-oauthlib<1.1,>=0.5 in /usr/local/lib/python3.10/site-packages (from tensorboard<2.14,>=2.13->tensorflow) (1.0.0)\n",
      "Requirement already satisfied: markdown>=2.6.8 in /usr/local/lib/python3.10/site-packages (from tensorboard<2.14,>=2.13->tensorflow) (3.3.7)\n",
      "Requirement already satisfied: requests<3,>=2.21.0 in /usr/local/lib/python3.10/site-packages (from tensorboard<2.14,>=2.13->tensorflow) (2.28.1)\n",
      "Requirement already satisfied: tensorboard-data-server<0.8.0,>=0.7.0 in /usr/local/lib/python3.10/site-packages (from tensorboard<2.14,>=2.13->tensorflow) (0.7.1)\n",
      "Requirement already satisfied: werkzeug>=1.0.1 in /usr/local/lib/python3.10/site-packages (from tensorboard<2.14,>=2.13->tensorflow) (2.1.2)\n",
      "Requirement already satisfied: cachetools<6.0,>=2.0.0 in /usr/local/lib/python3.10/site-packages (from google-auth<3,>=1.6.3->tensorboard<2.14,>=2.13->tensorflow) (5.3.1)\n",
      "Requirement already satisfied: pyasn1-modules>=0.2.1 in /usr/local/lib/python3.10/site-packages (from google-auth<3,>=1.6.3->tensorboard<2.14,>=2.13->tensorflow) (0.2.8)\n",
      "Requirement already satisfied: rsa<5,>=3.1.4 in /usr/local/lib/python3.10/site-packages (from google-auth<3,>=1.6.3->tensorboard<2.14,>=2.13->tensorflow) (4.8)\n",
      "Requirement already satisfied: requests-oauthlib>=0.7.0 in /usr/local/lib/python3.10/site-packages (from google-auth-oauthlib<1.1,>=0.5->tensorboard<2.14,>=2.13->tensorflow) (1.3.1)\n",
      "Requirement already satisfied: charset-normalizer<3,>=2 in /usr/local/lib/python3.10/site-packages (from requests<3,>=2.21.0->tensorboard<2.14,>=2.13->tensorflow) (2.1.0)\n",
      "Requirement already satisfied: idna<4,>=2.5 in /usr/local/lib/python3.10/site-packages (from requests<3,>=2.21.0->tensorboard<2.14,>=2.13->tensorflow) (3.3)\n",
      "Requirement already satisfied: urllib3<1.27,>=1.21.1 in /usr/local/lib/python3.10/site-packages (from requests<3,>=2.21.0->tensorboard<2.14,>=2.13->tensorflow) (1.26.9)\n",
      "Requirement already satisfied: certifi>=2017.4.17 in /usr/local/lib/python3.10/site-packages (from requests<3,>=2.21.0->tensorboard<2.14,>=2.13->tensorflow) (2022.6.15)\n",
      "Requirement already satisfied: pyasn1<0.5.0,>=0.4.6 in /usr/local/lib/python3.10/site-packages (from pyasn1-modules>=0.2.1->google-auth<3,>=1.6.3->tensorboard<2.14,>=2.13->tensorflow) (0.4.8)\n",
      "Requirement already satisfied: oauthlib>=3.0.0 in /usr/local/lib/python3.10/site-packages (from requests-oauthlib>=0.7.0->google-auth-oauthlib<1.1,>=0.5->tensorboard<2.14,>=2.13->tensorflow) (3.2.0)\n",
      "The keras version is 2.13.1.\n"
     ]
    }
   ],
   "source": [
    "#import os\n",
    "#os.system (\"pip install keras==2.4.3\")\n",
    "\n",
    "!pip install tensorflow\n",
    "\n",
    "import keras\n",
    "\n",
    "print('The keras version is {}.'.format(keras.__version__))"
   ]
  },
  {
   "cell_type": "code",
   "execution_count": 3,
   "metadata": {
    "cell_id": "20fb5644d3ee4eac89a688d1f88a4db6",
    "deepnote_cell_type": "code",
    "deepnote_to_be_reexecuted": false,
    "execution_millis": 630,
    "execution_start": 1673120430269,
    "source_hash": "4437f931"
   },
   "outputs": [
    {
     "name": "stderr",
     "output_type": "stream",
     "text": [
      "/tmp/ipykernel_438/3485464767.py:8: MatplotlibDeprecationWarning: The seaborn styles shipped by Matplotlib are deprecated since 3.6, as they no longer correspond to the styles shipped by seaborn. However, they will remain available as 'seaborn-v0_8-<style>'. Alternatively, directly use the seaborn API instead.\n",
      "  plt.style.use('seaborn-paper')\n"
     ]
    },
    {
     "data": {
      "text/html": [
       "<style>.container { width:90% !important; }</style>"
      ],
      "text/plain": [
       "<IPython.core.display.HTML object>"
      ]
     },
     "metadata": {},
     "output_type": "display_data"
    },
    {
     "data": {
      "text/html": [
       "<style>.output_png { display: table-cell; text-align: center; vertical-align: middle; } </style>"
      ],
      "text/plain": [
       "<IPython.core.display.HTML object>"
      ]
     },
     "metadata": {},
     "output_type": "display_data"
    },
    {
     "data": {
      "text/html": [
       "<style>.MathJax {font-size: 100%;}</style>"
      ],
      "text/plain": [
       "<IPython.core.display.HTML object>"
      ]
     },
     "metadata": {},
     "output_type": "display_data"
    }
   ],
   "source": [
    "# IPython display functions\n",
    "import IPython\n",
    "from IPython.display import display, HTML, SVG, Image\n",
    "\n",
    "# General Plotting\n",
    "import matplotlib.pyplot as plt\n",
    "\n",
    "plt.style.use('seaborn-paper')\n",
    "plt.rcParams['figure.figsize'] = [10, 6] ## plot size\n",
    "plt.rcParams['axes.linewidth'] = 2.0 #set the value globally\n",
    "\n",
    "## notebook style and settings\n",
    "display(HTML(\"<style>.container { width:90% !important; }</style>\"))\n",
    "display(HTML(\"<style>.output_png { display: table-cell; text-align: center; vertical-align: middle; } </style>\"))\n",
    "display(HTML(\"<style>.MathJax {font-size: 100%;}</style>\"))\n",
    "\n",
    "# For changing background color\n",
    "def set_background(color):\n",
    "    script = ( \"var cell = this.closest('.code_cell');\" \"var editor = cell.querySelector('.input_area');\" \"editor.style.background='{}';\" \"this.parentNode.removeChild(this)\" ).format(color)\n",
    "    display(HTML('<img src onerror=\"{}\">'.format(script)))"
   ]
  },
  {
   "cell_type": "markdown",
   "metadata": {
    "cell_id": "d162b4c90fb84d43a4d7e8869eb154a5",
    "deepnote_cell_height": 52.390625,
    "deepnote_cell_type": "markdown"
   },
   "source": [
    "Library Imports"
   ]
  },
  {
   "cell_type": "code",
   "execution_count": 4,
   "metadata": {
    "cell_id": "6d8fd0214dcc468db6169e15673e9a1f",
    "deepnote_cell_type": "code",
    "deepnote_to_be_reexecuted": false,
    "execution_millis": 577,
    "execution_start": 1673120430902,
    "source_hash": "3cfdb3f9"
   },
   "outputs": [],
   "source": [
    "import os\n",
    "import sys\n",
    "import random\n",
    "import numpy as np\n",
    "import pandas as pd\n",
    "from os import walk\n",
    "\n",
    "# Metrics\n",
    "from sklearn.metrics import *\n",
    "\n",
    "# Keras library for deep learning\n",
    "# https://keras.io/\n",
    "import tensorflow as tf\n",
    "import keras\n",
    "from keras.datasets import mnist # MNIST Data set\n",
    "from keras.models import Sequential # Model building\n",
    "from keras.layers import * # Model layers\n",
    "from keras.preprocessing.image import *\n",
    "from tensorflow.keras.utils import *\n",
    "from sklearn.model_selection import train_test_split\n",
    "\n",
    "import warnings\n",
    "warnings.simplefilter(action='ignore', category=FutureWarning)\n",
    "\n",
    "tf.keras.utils.set_random_seed(568)"
   ]
  },
  {
   "cell_type": "markdown",
   "metadata": {
    "cell_id": "56d28b3f813f4c6196e819610c08e46e",
    "deepnote_cell_height": 82,
    "deepnote_cell_type": "markdown"
   },
   "source": [
    "# 1. Helper Functions"
   ]
  },
  {
   "cell_type": "markdown",
   "metadata": {
    "cell_id": "5012e54e52a64414aab573cd3369328d",
    "deepnote_cell_height": 130.796875,
    "deepnote_cell_type": "markdown"
   },
   "source": [
    "## 1.1 Confusion Matrix\n",
    "Confusion matrices are an important toolkit in every data scientist's box. We have created a function for you that you can use to create visual confusion matrices and analyze your models."
   ]
  },
  {
   "cell_type": "code",
   "execution_count": 5,
   "metadata": {
    "cell_id": "03c1d405acb7400b98c1c54a43bad0e7",
    "deepnote_cell_type": "code",
    "deepnote_to_be_reexecuted": false,
    "execution_millis": 1,
    "execution_start": 1673120431485,
    "source_hash": "ca9c6cb7"
   },
   "outputs": [],
   "source": [
    "def displayConfusionMatrix(confusionMatrix, precisionNegative, precisionPositive, recallNegative, recallPositive, title):\n",
    "    # Set font size for the plots. You can ignore this line.\n",
    "    PLOT_FONT_SIZE = 14\n",
    "    \n",
    "    # Set plot size. Please ignore this line\n",
    "    plt.rcParams['figure.figsize'] = [5, 5]\n",
    "    \n",
    "    # Transpose of confusion matrix to align the plot with the actual precision recall values. Please ignore this as well.\n",
    "    confusionMatrix = np.transpose(confusionMatrix)\n",
    "    \n",
    "    # Plotting the confusion matrix\n",
    "    plt.imshow(confusionMatrix, interpolation='nearest',cmap=plt.cm.Blues, vmin=0, vmax=100)\n",
    "    \n",
    "    \n",
    "    # Setting plot properties. You should ignore everything from here on.\n",
    "    xticks = np.array([-0.5, 0, 1,1.5])\n",
    "    plt.gca().set_xticks(xticks)\n",
    "    plt.gca().set_yticks(xticks)\n",
    "    plt.gca().set_xticklabels([\"\", \"Healthy\\nRecall=\" + str(recallNegative) , \"Pneumonia\\nRecall=\" + str(recallPositive), \"\"], fontsize=PLOT_FONT_SIZE)\n",
    "    plt.gca().set_yticklabels([\"\", \"Healthy\\nPrecision=\" + str(precisionNegative) , \"Pneumonia\\nPrecision=\" + str(precisionPositive), \"\"], fontsize=PLOT_FONT_SIZE)\n",
    "    plt.ylabel(\"Predicted Class\", fontsize=PLOT_FONT_SIZE)\n",
    "    plt.xlabel(\"Actual Class\", fontsize=PLOT_FONT_SIZE)\n",
    "    plt.title(title, fontsize=PLOT_FONT_SIZE)\n",
    "        \n",
    "    # Add text in heatmap boxes\n",
    "    for i in range(2):\n",
    "        for j in range(2):\n",
    "            text = plt.text(j, i, confusionMatrix[i][j], ha=\"center\", va=\"center\", color=\"white\", size=15) ### size here is the size of text inside a single box in the heatmap\n",
    "            \n",
    "    plt.show()"
   ]
  },
  {
   "cell_type": "code",
   "execution_count": 6,
   "metadata": {
    "cell_id": "a27b21998a164aa593ff5e5603719336",
    "deepnote_cell_type": "code",
    "deepnote_to_be_reexecuted": false,
    "execution_millis": 2,
    "execution_start": 1673120431490,
    "source_hash": "1e07d900",
    "tags": []
   },
   "outputs": [],
   "source": [
    "def calculateMetrics(predictions, predictionsProbabilities, actualLabels):\n",
    "    # Convert label format from [0,1](label 1) and [1,0](label 0) into single integers: 1 and 0.\n",
    "    actualLabels = [item[1] for item in actualLabels]\n",
    "    \n",
    "    # Get probabilities for the class with label 1. That is all we need to compute AUCs. We don't need probabilities for class 0.\n",
    "    predictionsProbabilities = [item[1] for item in predictionsProbabilities]\n",
    "    \n",
    "    # Calculate metrics using scikit-learn functions. The round function is used to round the numbers up to 2 decimal points.\n",
    "    try:\n",
    "        accuracy = round(accuracy_score(actualLabels, predictions) * 100, 2)\n",
    "        precisionNegative = round(precision_score(actualLabels, predictions, average = None)[0] * 100, 2)\n",
    "        precisionPositive = round(precision_score(actualLabels, predictions, average = None)[1] * 100, 2)\n",
    "        recallNegative = round(recall_score(actualLabels, predictions, average = None)[0] * 100, 2)\n",
    "        recallPositive = round(recall_score(actualLabels, predictions, average = None)[1] * 100, 2)\n",
    "    except:\n",
    "        print(\"An exception occurred but was caught.\")\n",
    "    auc = round(roc_auc_score(actualLabels, predictionsProbabilities) * 100, 2)\n",
    "    \n",
    "    return auc"
   ]
  },
  {
   "cell_type": "markdown",
   "metadata": {
    "cell_id": "d3e776a8c3284ce4b72245118c1571a3",
    "deepnote_cell_height": 108.390625,
    "deepnote_cell_type": "markdown"
   },
   "source": [
    "## 1.2 Metrics Calculation\n",
    "We are giving you a function that will calculate all the metrics you'll need in order to analyze your model"
   ]
  },
  {
   "cell_type": "code",
   "execution_count": 7,
   "metadata": {
    "cell_id": "69d780fb5e3e48aa9aa799de3315dcda",
    "deepnote_cell_type": "code",
    "deepnote_to_be_reexecuted": false,
    "execution_millis": 1,
    "execution_start": 1673120431498,
    "source_hash": "656e6053"
   },
   "outputs": [],
   "source": [
    "def calculateMetricsAndPrint(predictions, predictionsProbabilities, actualLabels):\n",
    "    # Convert label format from [0,1](label 1) and [1,0](label 0) into single integers: 1 and 0.\n",
    "    actualLabels = [item[1] for item in actualLabels]\n",
    "    \n",
    "    # Get probabilities for the class with label 1. That is all we need to compute AUCs. We don't need probabilities for class 0.\n",
    "    predictionsProbabilities = [item[1] for item in predictionsProbabilities]\n",
    "    \n",
    "    # Calculate metrics using scikit-learn functions. The round function is used to round the numbers up to 2 decimal points.\n",
    "    accuracy = round(accuracy_score(actualLabels, predictions) * 100, 2)\n",
    "    precisionNegative = round(precision_score(actualLabels, predictions, average = None)[0] * 100, 2)\n",
    "    precisionPositive = round(precision_score(actualLabels, predictions, average = None)[1] * 100, 2)\n",
    "    recallNegative = round(recall_score(actualLabels, predictions, average = None)[0] * 100, 2)\n",
    "    recallPositive = round(recall_score(actualLabels, predictions, average = None)[1] * 100, 2)\n",
    "    auc = round(roc_auc_score(actualLabels, predictionsProbabilities) * 100, 2)\n",
    "    confusionMatrix = confusion_matrix(actualLabels, predictions)\n",
    "    \n",
    "    # Print metrics. .%2f prints a number upto 2 decimal points only.\n",
    "    print(\"------------------------------------------------------------------------\")\n",
    "    print(\"Accuracy: %.2f\\nPrecisionNegative: %.2f\\nPrecisionPositive: %.2f\\nRecallNegative: %.2f\\nRecallPositive: %.2f\\nAUC Score: %.2f\" % \n",
    "          (accuracy, precisionNegative, precisionPositive, recallNegative, recallPositive, auc))\n",
    "    print(\"------------------------------------------------------------------------\")\n",
    "    \n",
    "    print(\"+ Printing confusion matrix...\\n\")\n",
    "    # Display confusion matrix\n",
    "    displayConfusionMatrix(confusionMatrix, precisionNegative, precisionPositive, recallNegative, recallPositive, \"Confusion Matrix\")\n",
    "    \n",
    "    print(\"+ Printing ROC curve...\\n\")\n",
    "    # ROC Curve\n",
    "    plt.rcParams['figure.figsize'] = [16, 8]\n",
    "    FONT_SIZE = 16\n",
    "    falsePositiveRateDt, truePositiveRateDt, _ = roc_curve(actualLabels, predictionsProbabilities)\n",
    "    plt.plot(falsePositiveRateDt, truePositiveRateDt, linewidth = 5, color='black')\n",
    "    plt.xticks(fontsize=FONT_SIZE)\n",
    "    plt.yticks(fontsize=FONT_SIZE)\n",
    "    plt.xlabel(\"False Positive Rate\", fontsize=FONT_SIZE)\n",
    "    plt.ylabel(\"True Positive Rate\", fontsize=FONT_SIZE)\n",
    "    plt.show()\n",
    "    \n",
    "    return auc"
   ]
  },
  {
   "cell_type": "markdown",
   "metadata": {
    "cell_id": "f19c332adbdf489198b9713ee39871ef",
    "deepnote_cell_height": 70,
    "deepnote_cell_type": "markdown"
   },
   "source": [
    "## 1.3 Kaggle Predictions"
   ]
  },
  {
   "cell_type": "code",
   "execution_count": 8,
   "metadata": {
    "cell_id": "cb75c669fb6e498d8215eb38818f8ec7",
    "deepnote_cell_type": "code",
    "deepnote_to_be_reexecuted": false,
    "execution_millis": 1,
    "execution_start": 1673120431505,
    "source_hash": "96bc1348"
   },
   "outputs": [],
   "source": [
    "def getKagglePredictions(model, kaggleData, filename):\n",
    "    print(\"+ Writing kaggle test results in : results/%s...\" % filename)\n",
    "    predictions = model.predict(kaggleData)\n",
    "    predictionProbs = [item[1] for item in predictions]\n",
    "        \n",
    "    # Store predictions for kaggle\n",
    "    outputFile = open(\"results/\" + str(filename), \"w\")\n",
    "    outputFile.write(\"Id,Prediction\\n\")\n",
    "    for i in range(0, len(predictionProbs)):\n",
    "        outputFile.write(str(i + 1) + \",\" + str(predictionProbs[i]) + \"\\n\")\n",
    "    \n",
    "    outputFile.close()"
   ]
  },
  {
   "cell_type": "markdown",
   "metadata": {
    "cell_id": "75a32ef115994aeabf4d5311962c7b34",
    "deepnote_cell_height": 70,
    "deepnote_cell_type": "markdown"
   },
   "source": [
    "## 1.4 Top n% accuracy"
   ]
  },
  {
   "cell_type": "code",
   "execution_count": 9,
   "metadata": {
    "cell_id": "7cd0d10961d74c358f8673e0425eab97",
    "deepnote_cell_type": "code",
    "deepnote_to_be_reexecuted": false,
    "execution_millis": 0,
    "execution_start": 1673120431527,
    "owner_user_id": "17a5c176-c9f5-46e9-af17-ab5b0f1b5ce8",
    "source_hash": "8ea36c0f"
   },
   "outputs": [],
   "source": [
    "def calculateClasswiseTopNAccuracy(actualLabels, predictionsProbs, TOP_N):\n",
    "    \"\"\"\n",
    "    TOP_N is the top n% predictions you want to use for each class\n",
    "    \"\"\"\n",
    "\n",
    "    discreteActualLabels = [1 if item[1] > item[0] else 0 for item in actualLabels]\n",
    "    discretePredictions = [1 if item[1] > item[0] else 0 for item in predictionsProbs]\n",
    "    predictionProbsTopNHealthy, predictionProbsTopNPneumonia = [item[0] for item in predictionsProbs], [item[1] for item in predictionsProbs]\n",
    "    predictionProbsTopNHealthy = list(reversed(sorted(predictionProbsTopNHealthy)))[:int(len(predictionProbsTopNHealthy) * TOP_N / 100)][-1]\n",
    "    predictionProbsTopNPneumonia = list(reversed(sorted(predictionProbsTopNPneumonia)))[:int(len(predictionProbsTopNPneumonia) * TOP_N / 100)][-1]\n",
    "\n",
    "    # Calculate accuracy for both classes\n",
    "    accuracyHealthy = []\n",
    "    accuracyPneumonia = []\n",
    "    for i in range(0, len(discretePredictions)):\n",
    "        if discretePredictions[i] == 1:\n",
    "            # Pneumonia\n",
    "            if predictionsProbs[i][1] > predictionProbsTopNPneumonia:\n",
    "                accuracyPneumonia.append(int(discreteActualLabels[i]) == 1)\n",
    "        else:\n",
    "            # Healthy\n",
    "            if predictionsProbs[i][0] > predictionProbsTopNHealthy:\n",
    "                accuracyHealthy.append(int(discreteActualLabels[i]) == 0)\n",
    "\n",
    "    accuracyHealthy = round((accuracyHealthy.count(True) * 100) / len(accuracyHealthy), 2)\n",
    "    accuracyPneumonia = round((accuracyPneumonia.count(True) * 100) / len(accuracyPneumonia), 2)\n",
    "    return accuracyHealthy, accuracyPneumonia"
   ]
  },
  {
   "cell_type": "markdown",
   "metadata": {
    "cell_id": "5375adb2e0e646648410d097ce7dd87a",
    "deepnote_cell_height": 176.390625,
    "deepnote_cell_type": "markdown"
   },
   "source": [
    "# 2. Data Loading\n",
    "## 2.1 Loading File Paths\n",
    "We will first load file paths from normal and pneumonia folders in the train directory."
   ]
  },
  {
   "cell_type": "code",
   "execution_count": 10,
   "metadata": {
    "cell_id": "35ea1d34534a4edeacf3b4577dab5e92",
    "deepnote_cell_type": "code",
    "deepnote_to_be_reexecuted": false,
    "execution_millis": 2,
    "execution_start": 1673120431527,
    "source_hash": "932cd718"
   },
   "outputs": [
    {
     "name": "stdout",
     "output_type": "stream",
     "text": [
      "1436\n",
      "Normal X-ray images: 1436\n",
      "Pneumonia X-ray images: 1436\n"
     ]
    }
   ],
   "source": [
    "# Load normal images\n",
    "normalImagesPath = \"data/train/normal\"\n",
    "normalImageFiles = []\n",
    "for(_,_,files) in walk(normalImagesPath):\n",
    "    normalImageFiles.extend(files)\n",
    "\n",
    "normalImagesPath2 = \"data/train/normal2\"\n",
    "for(_,_,files) in walk(normalImagesPath2):\n",
    "    normalImageFiles.extend(files)\n",
    "\n",
    "print(len(normalImageFiles))\n",
    "\n",
    "# Load pneumonia images\n",
    "pneumoniaImagesPath = \"data/train/pneumonia\"\n",
    "pneumoniaImageFiles = []\n",
    "for(_,_,files) in walk(pneumoniaImagesPath):\n",
    "    pneumoniaImageFiles.extend(files)\n",
    "    \n",
    "random.shuffle(pneumoniaImageFiles)\n",
    "pneumoniaImageFiles = pneumoniaImageFiles[:len(normalImageFiles)]\n",
    "print(\"Normal X-ray images: %d\\nPneumonia X-ray images: %d\" % (len(normalImageFiles), len(pneumoniaImageFiles)))"
   ]
  },
  {
   "cell_type": "markdown",
   "metadata": {
    "cell_id": "ef0ed0b823d24bb891e2ea1ba521d085",
    "deepnote_cell_height": 118,
    "deepnote_cell_type": "markdown"
   },
   "source": [
    "## 2.2 Loading Image Data\n",
    "### 2.2.1 Training and Validation"
   ]
  },
  {
   "cell_type": "code",
   "execution_count": 11,
   "metadata": {
    "cell_id": "55fecbf7574743ddb76811f790ca9274",
    "deepnote_cell_type": "code",
    "deepnote_to_be_reexecuted": false,
    "execution_millis": 6859,
    "execution_start": 1673120431528,
    "source_hash": "cc7c3793"
   },
   "outputs": [
    {
     "name": "stdout",
     "output_type": "stream",
     "text": [
      "Input data shape: (2860, 256, 256, 1)\n"
     ]
    }
   ],
   "source": [
    "imagesData = []\n",
    "imagesLabels = []\n",
    "\n",
    "for file in normalImageFiles:\n",
    "    fullPath = normalImagesPath + \"/\" + file\n",
    "    if os.path.exists(fullPath) == False:\n",
    "        fullPath = normalImagesPath2 + \"/\" + file\n",
    "        if os.path.exists(fullPath) == False:\n",
    "            continue\n",
    "    imageData = load_img(fullPath, color_mode = \"grayscale\") # load_img function comes from keras library when we do \"from keras.preprocessing.image import *\"\n",
    "    imageArray = img_to_array(imageData) / 255.0\n",
    "    \n",
    "    imagesData.append(imageArray)\n",
    "    imagesLabels.append(0)\n",
    "    \n",
    "\n",
    "for file in pneumoniaImageFiles:\n",
    "    fullPath = pneumoniaImagesPath + \"/\" + file\n",
    "    if os.path.exists(fullPath) == False:\n",
    "            continue\n",
    "            \n",
    "    imageData = load_img(pneumoniaImagesPath + \"/\" + file, color_mode = \"grayscale\") # load_img function comes from keras library when we do \"from keras.preprocessing.image import *\"\n",
    "    imageArray = img_to_array(imageData) / 255.0\n",
    "    \n",
    "    imagesData.append(imageArray)\n",
    "    imagesLabels.append(1)\n",
    "\n",
    "imagesData = np.array(imagesData)\n",
    "imagesLabels = keras.utils.to_categorical(imagesLabels)\n",
    "print(\"Input data shape: %s\" % (imagesData.shape,))"
   ]
  },
  {
   "cell_type": "code",
   "execution_count": 12,
   "metadata": {},
   "outputs": [
    {
     "data": {
      "text/plain": [
       "'\\nfrom zipfile import ZipFile\\nfile_name = \"data/test.zip\"\\n\\n# opening the zip file in READ mode \\nwith ZipFile(file_name, \\'r\\') as zip: \\n    # printing all the contents of the zip file \\n    zip.printdir() \\n  \\n    # extracting all the files \\n    print(\\'Extracting all the files now...\\') \\n    zip.extractall(\"data/\") \\n    print(\\'Done!\\')\\n'"
      ]
     },
     "execution_count": 12,
     "metadata": {},
     "output_type": "execute_result"
    }
   ],
   "source": [
    "\"\"\"\n",
    "from zipfile import ZipFile\n",
    "file_name = \"data/test.zip\"\n",
    "\n",
    "# opening the zip file in READ mode \n",
    "with ZipFile(file_name, 'r') as zip: \n",
    "    # printing all the contents of the zip file \n",
    "    zip.printdir() \n",
    "  \n",
    "    # extracting all the files \n",
    "    print('Extracting all the files now...') \n",
    "    zip.extractall(\"data/\") \n",
    "    print('Done!')\n",
    "\"\"\""
   ]
  },
  {
   "cell_type": "markdown",
   "metadata": {},
   "source": [
    "### Running Basic Models"
   ]
  },
  {
   "cell_type": "code",
   "execution_count": 20,
   "metadata": {},
   "outputs": [],
   "source": [
    "flat_images = [image.flatten() for image in imagesData]"
   ]
  },
  {
   "cell_type": "code",
   "execution_count": 21,
   "metadata": {},
   "outputs": [],
   "source": [
    "df = pd.DataFrame(flat_images)"
   ]
  },
  {
   "cell_type": "code",
   "execution_count": 23,
   "metadata": {},
   "outputs": [],
   "source": [
    "df['class_0'] = [label[0] for label in imagesLabels]\n",
    "df['class_1'] = [label[1] for label in imagesLabels]\n"
   ]
  },
  {
   "cell_type": "code",
   "execution_count": 38,
   "metadata": {},
   "outputs": [
    {
     "name": "stdout",
     "output_type": "stream",
     "text": [
      "XGBoost Binary Accuracy: 0.9353\n",
      "XGBoost AUC: 0.9837\n",
      "XGBoost Precision: 0.9223\n",
      "XGBoost Recall: 0.9457\n",
      "XGBoost Confusion Matrix:\n",
      "[[274  22]\n",
      " [ 15 261]]\n",
      "Random Forest Binary Accuracy: 0.9353\n",
      "Random Forest AUC: 0.9759\n",
      "Random Forest Precision: 0.9253\n",
      "Random Forest Recall: 0.9420\n",
      "Random Forest Confusion Matrix:\n",
      "[[275  21]\n",
      " [ 16 260]]\n",
      "Decision Tree Binary Accuracy: 0.8357\n",
      "Decision Tree AUC: 0.8361\n",
      "Decision Tree Precision: 0.8182\n",
      "Decision Tree Recall: 0.8478\n",
      "Decision Tree Confusion Matrix:\n",
      "[[244  52]\n",
      " [ 42 234]]\n"
     ]
    }
   ],
   "source": [
    "import pandas as pd\n",
    "import numpy as np\n",
    "from sklearn.model_selection import train_test_split\n",
    "from sklearn.ensemble import RandomForestClassifier\n",
    "from sklearn.tree import DecisionTreeClassifier  # Import Decision Tree\n",
    "from sklearn.metrics import accuracy_score, roc_auc_score, precision_score, recall_score, confusion_matrix\n",
    "import xgboost as xgb\n",
    "from sklearn.metrics import confusion_matrix, classification_report\n",
    "\n",
    "\n",
    "X = df.drop(columns=['class_0', 'class_1'])  \n",
    "y = df['class_1']  \n",
    "\n",
    "\n",
    "X_train, X_test, y_train, y_test = train_test_split(X, y, test_size=0.2, random_state=42)\n",
    "\n",
    "# XGBoost Model \n",
    "dtrain = xgb.DMatrix(X_train, label=y_train.values)\n",
    "dtest = xgb.DMatrix(X_test, label=y_test.values)\n",
    "\n",
    "params = {\n",
    "    'objective': 'binary:logistic',  # binary classification\n",
    "    'eval_metric': 'logloss',  # log loss for binary classification\n",
    "    'max_depth': 5,\n",
    "    'eta': 0.05\n",
    "}\n",
    "\n",
    "xgb_model = xgb.train(params, dtrain, num_boost_round=100)\n",
    "\n",
    "xgb_preds_proba = xgb_model.predict(dtest)  \n",
    "xgb_preds_binary = (xgb_preds_proba > 0.5).astype(int)  \n",
    "\n",
    "xgb_accuracy = accuracy_score(y_test, xgb_preds_binary)\n",
    "xgb_auc = roc_auc_score(y_test, xgb_preds_proba)\n",
    "xgb_precision = precision_score(y_test, xgb_preds_binary)\n",
    "xgb_recall = recall_score(y_test, xgb_preds_binary)\n",
    "xgb_conf_matrix = confusion_matrix(y_test, xgb_preds_binary)\n",
    "\n",
    "\n",
    "print(f'XGBoost Binary Accuracy: {xgb_accuracy:.4f}')\n",
    "print(f'XGBoost AUC: {xgb_auc:.4f}')\n",
    "print(f'XGBoost Precision: {xgb_precision:.4f}')\n",
    "print(f'XGBoost Recall: {xgb_recall:.4f}')\n",
    "print('XGBoost Confusion Matrix:')\n",
    "print(xgb_conf_matrix)\n",
    "\n",
    "# Random Forest\n",
    "rf_model = RandomForestClassifier(n_estimators=100, random_state=42)\n",
    "rf_model.fit(X_train, y_train)  \n",
    "\n",
    "rf_preds_proba = rf_model.predict_proba(X_test)[:, 1]  \n",
    "rf_preds_binary = rf_model.predict(X_test)\n",
    "\n",
    "rf_accuracy = accuracy_score(y_test, rf_preds_binary)\n",
    "rf_auc = roc_auc_score(y_test, rf_preds_proba)\n",
    "rf_precision = precision_score(y_test, rf_preds_binary)\n",
    "rf_recall = recall_score(y_test, rf_preds_binary)\n",
    "rf_conf_matrix = confusion_matrix(y_test, rf_preds_binary)\n",
    "\n",
    "print(f'Random Forest Binary Accuracy: {rf_accuracy:.4f}')\n",
    "print(f'Random Forest AUC: {rf_auc:.4f}')\n",
    "print(f'Random Forest Precision: {rf_precision:.4f}')\n",
    "print(f'Random Forest Recall: {rf_recall:.4f}')\n",
    "print('Random Forest Confusion Matrix:')\n",
    "print(rf_conf_matrix)\n",
    "\n",
    "# Decision Tree\n",
    "dt_model = DecisionTreeClassifier(random_state=42)\n",
    "dt_model.fit(X_train, y_train)  \n",
    "\n",
    "dt_preds_proba = dt_model.predict_proba(X_test)[:, 1]  # Get probabilities for class 1\n",
    "dt_preds_binary = dt_model.predict(X_test)\n",
    "\n",
    "dt_accuracy = accuracy_score(y_test, dt_preds_binary)\n",
    "dt_auc = roc_auc_score(y_test, dt_preds_proba)\n",
    "dt_precision = precision_score(y_test, dt_preds_binary)\n",
    "dt_recall = recall_score(y_test, dt_preds_binary)\n",
    "dt_conf_matrix = confusion_matrix(y_test, dt_preds_binary)\n",
    "\n",
    "print(f'Decision Tree Binary Accuracy: {dt_accuracy:.4f}')\n",
    "print(f'Decision Tree AUC: {dt_auc:.4f}')\n",
    "print(f'Decision Tree Precision: {dt_precision:.4f}')\n",
    "print(f'Decision Tree Recall: {dt_recall:.4f}')\n",
    "print('Decision Tree Confusion Matrix:')\n",
    "print(dt_conf_matrix)\n"
   ]
  },
  {
   "cell_type": "code",
   "execution_count": 27,
   "metadata": {},
   "outputs": [
    {
     "name": "stdout",
     "output_type": "stream",
     "text": [
      "Epoch 1/20\n",
      "72/72 [==============================] - 2s 18ms/step - loss: 1.6663 - accuracy: 0.7614 - val_loss: 0.2516 - val_accuracy: 0.8899\n",
      "Epoch 2/20\n",
      "72/72 [==============================] - 1s 13ms/step - loss: 0.3420 - accuracy: 0.8636 - val_loss: 0.2126 - val_accuracy: 0.9038\n",
      "Epoch 3/20\n",
      "72/72 [==============================] - 1s 13ms/step - loss: 0.3029 - accuracy: 0.8789 - val_loss: 0.1810 - val_accuracy: 0.9266\n",
      "Epoch 4/20\n",
      "72/72 [==============================] - 1s 12ms/step - loss: 0.2522 - accuracy: 0.9017 - val_loss: 0.2397 - val_accuracy: 0.9091\n",
      "Epoch 5/20\n",
      "72/72 [==============================] - 1s 12ms/step - loss: 0.3353 - accuracy: 0.8789 - val_loss: 0.1964 - val_accuracy: 0.9213\n",
      "Epoch 6/20\n",
      "72/72 [==============================] - 1s 13ms/step - loss: 0.4601 - accuracy: 0.8562 - val_loss: 0.7689 - val_accuracy: 0.7885\n",
      "Epoch 7/20\n",
      "72/72 [==============================] - 1s 12ms/step - loss: 0.2755 - accuracy: 0.9087 - val_loss: 0.2427 - val_accuracy: 0.9073\n",
      "Epoch 8/20\n",
      "72/72 [==============================] - 1s 13ms/step - loss: 0.2474 - accuracy: 0.9104 - val_loss: 0.2444 - val_accuracy: 0.9073\n",
      "Epoch 9/20\n",
      "72/72 [==============================] - 1s 12ms/step - loss: 0.2807 - accuracy: 0.8973 - val_loss: 0.4074 - val_accuracy: 0.8601\n",
      "Epoch 10/20\n",
      "72/72 [==============================] - 1s 12ms/step - loss: 0.2175 - accuracy: 0.9191 - val_loss: 0.1672 - val_accuracy: 0.9231\n",
      "Epoch 11/20\n",
      "72/72 [==============================] - 1s 13ms/step - loss: 0.2806 - accuracy: 0.8960 - val_loss: 0.2821 - val_accuracy: 0.8934\n",
      "Epoch 12/20\n",
      "72/72 [==============================] - 1s 13ms/step - loss: 0.3417 - accuracy: 0.8864 - val_loss: 0.4047 - val_accuracy: 0.8776\n",
      "Epoch 13/20\n",
      "72/72 [==============================] - 1s 13ms/step - loss: 0.2172 - accuracy: 0.9218 - val_loss: 0.1635 - val_accuracy: 0.9283\n",
      "Epoch 14/20\n",
      "72/72 [==============================] - 1s 13ms/step - loss: 0.3326 - accuracy: 0.8899 - val_loss: 0.2151 - val_accuracy: 0.9213\n",
      "Epoch 15/20\n",
      "72/72 [==============================] - 1s 13ms/step - loss: 0.1993 - accuracy: 0.9296 - val_loss: 0.2284 - val_accuracy: 0.9178\n",
      "Epoch 16/20\n",
      "72/72 [==============================] - 1s 13ms/step - loss: 0.2031 - accuracy: 0.9200 - val_loss: 0.1870 - val_accuracy: 0.9301\n",
      "Epoch 17/20\n",
      "72/72 [==============================] - 1s 13ms/step - loss: 0.1681 - accuracy: 0.9366 - val_loss: 0.1702 - val_accuracy: 0.9248\n",
      "Epoch 18/20\n",
      "72/72 [==============================] - 1s 13ms/step - loss: 0.1726 - accuracy: 0.9371 - val_loss: 0.1860 - val_accuracy: 0.9283\n",
      "Epoch 19/20\n",
      "72/72 [==============================] - 1s 13ms/step - loss: 0.1875 - accuracy: 0.9301 - val_loss: 0.1762 - val_accuracy: 0.9266\n",
      "Epoch 20/20\n",
      "72/72 [==============================] - 1s 13ms/step - loss: 0.1680 - accuracy: 0.9296 - val_loss: 0.1536 - val_accuracy: 0.9318\n",
      "18/18 [==============================] - 0s 3ms/step\n",
      "Neural Network Binary Accuracy: 0.9318\n",
      "Neural Network AUC: 0.9877\n",
      "Neural Network Precision: 0.9506\n",
      "Neural Network Recall: 0.9058\n",
      "Neural Network Confusion Matrix:\n",
      "[[283  13]\n",
      " [ 26 250]]\n"
     ]
    }
   ],
   "source": [
    "# Neural Network\n",
    "import tensorflow as tf\n",
    "from tensorflow.keras.models import Sequential\n",
    "from tensorflow.keras.layers import Dense\n",
    "from tensorflow.keras.optimizers import Adam\n",
    "\n",
    "nn_model = Sequential()\n",
    "nn_model.add(Dense(64, input_dim=X_train.shape[1], activation='relu'))  \n",
    "nn_model.add(Dense(32, activation='relu'))  \n",
    "nn_model.add(Dense(1, activation='sigmoid'))  \n",
    "\n",
    "nn_model.compile(loss='binary_crossentropy', optimizer=Adam(), metrics=['accuracy'])\n",
    "\n",
    "nn_model.fit(X_train, y_train, epochs=20, batch_size=32, validation_data=(X_test, y_test), verbose=1)\n",
    "\n",
    "nn_preds_proba = nn_model.predict(X_test).flatten()  \n",
    "nn_preds_binary = (nn_preds_proba > 0.5).astype(int)  \n",
    "\n",
    "nn_accuracy = accuracy_score(y_test, nn_preds_binary)\n",
    "nn_auc = roc_auc_score(y_test, nn_preds_proba)\n",
    "nn_precision = precision_score(y_test, nn_preds_binary)\n",
    "nn_recall = recall_score(y_test, nn_preds_binary)\n",
    "nn_conf_matrix = confusion_matrix(y_test, nn_preds_binary)\n",
    "\n",
    "print(f'Neural Network Binary Accuracy: {nn_accuracy:.4f}')\n",
    "print(f'Neural Network AUC: {nn_auc:.4f}')\n",
    "print(f'Neural Network Precision: {nn_precision:.4f}')\n",
    "print(f'Neural Network Recall: {nn_recall:.4f}')\n",
    "print('Neural Network Confusion Matrix:')\n",
    "print(nn_conf_matrix)"
   ]
  },
  {
   "cell_type": "markdown",
   "metadata": {
    "cell_id": "710b0e5d4a6d4f0eb660734b1b6cd98b",
    "deepnote_cell_height": 62,
    "deepnote_cell_type": "markdown"
   },
   "source": [
    "### 2.2.2 Kaggle Testing Data"
   ]
  },
  {
   "cell_type": "code",
   "execution_count": 13,
   "metadata": {
    "cell_id": "7326dea8d8cd40ac87874e3511567cd4",
    "deepnote_cell_type": "code",
    "deepnote_to_be_reexecuted": false,
    "execution_millis": 592,
    "execution_start": 1673120438389,
    "source_hash": "e28f1a93"
   },
   "outputs": [
    {
     "name": "stdout",
     "output_type": "stream",
     "text": [
      "Number of test images: 200\n"
     ]
    }
   ],
   "source": [
    "testImagesPath = \"data/test/\"\n",
    "testImageFiles = []\n",
    "for(_,_,files) in walk(testImagesPath):\n",
    "    testImageFiles.extend(files)\n",
    "testImageFiles = list(sorted(testImageFiles))\n",
    "    \n",
    "kaggleTestImages = []\n",
    "for file in testImageFiles:\n",
    "    fullPath = testImagesPath + \"/\" + file\n",
    "    if os.path.exists(fullPath) == False:\n",
    "        continue\n",
    "    imageData = load_img(testImagesPath + \"/\" + file, color_mode = \"grayscale\") \n",
    "    imageArray = img_to_array(imageData) / 255.0\n",
    "    \n",
    "    kaggleTestImages.append(imageArray)\n",
    "    \n",
    "kaggleTestImages = np.array(kaggleTestImages)\n",
    "print(\"Number of test images: %d\" % len(kaggleTestImages))"
   ]
  },
  {
   "cell_type": "markdown",
   "metadata": {
    "cell_id": "4520817f0eaf48ef8a7f2e2a0832c19e",
    "deepnote_cell_height": 70,
    "deepnote_cell_type": "markdown"
   },
   "source": [
    "## 2.3 Data Splitting into Training and Validation"
   ]
  },
  {
   "cell_type": "code",
   "execution_count": 14,
   "metadata": {
    "cell_id": "5102bbf73ec74aa396dae6c18c96e9c2",
    "deepnote_cell_type": "code",
    "deepnote_to_be_reexecuted": false,
    "execution_millis": 0,
    "execution_start": 1673120439026,
    "source_hash": "1a7dcdf7"
   },
   "outputs": [],
   "source": [
    "def trainTestSplit(data, labels):\n",
    "    \"\"\"\n",
    "    80-20 train-test data split\n",
    "    \"\"\"\n",
    "    trainData, trainLabels, testData, testLabels = [], [], [], []\n",
    "    for i in range(0, len(data)):\n",
    "        if i % 5 == 0:\n",
    "            testData.append(data[i])\n",
    "            testLabels.append(labels[i])\n",
    "        else:\n",
    "            trainData.append(data[i])\n",
    "            trainLabels.append(labels[i])\n",
    "            \n",
    "    return np.array(trainData), np.array(testData), np.array(trainLabels), np.array(testLabels)"
   ]
  },
  {
   "cell_type": "code",
   "execution_count": 17,
   "metadata": {
    "cell_id": "ebe164d853964bf580f5bb76c53cc470",
    "deepnote_cell_type": "code",
    "deepnote_to_be_reexecuted": false,
    "execution_millis": 98,
    "execution_start": 1673120439026,
    "source_hash": "a389ed2a"
   },
   "outputs": [],
   "source": [
    "# In our context, since we have a private test data on kaggle, our test data here would actually mean validation data. We will use results on this validation(test) data to see how our model would perform on the actual test data.\n",
    "# Split data into 80% training and 20% testing\n",
    "trainData, testData, trainLabels, testLabels = trainTestSplit(imagesData, imagesLabels)"
   ]
  },
  {
   "cell_type": "markdown",
   "metadata": {},
   "source": [
    "## Running Basic CNN"
   ]
  },
  {
   "cell_type": "code",
   "execution_count": 18,
   "metadata": {},
   "outputs": [
    {
     "name": "stdout",
     "output_type": "stream",
     "text": [
      "Epoch 1/10\n",
      "72/72 [==============================] - 16s 211ms/step - loss: 0.5518 - accuracy: 0.7548 - val_loss: 0.2308 - val_accuracy: 0.9091\n",
      "Epoch 2/10\n",
      "72/72 [==============================] - 15s 214ms/step - loss: 0.2113 - accuracy: 0.9165 - val_loss: 0.1642 - val_accuracy: 0.9458\n",
      "Epoch 3/10\n",
      "72/72 [==============================] - 15s 210ms/step - loss: 0.1767 - accuracy: 0.9296 - val_loss: 0.2646 - val_accuracy: 0.9003\n",
      "Epoch 4/10\n",
      "72/72 [==============================] - 15s 209ms/step - loss: 0.1611 - accuracy: 0.9419 - val_loss: 0.1753 - val_accuracy: 0.9388\n",
      "Epoch 5/10\n",
      "72/72 [==============================] - 15s 209ms/step - loss: 0.1513 - accuracy: 0.9449 - val_loss: 0.1682 - val_accuracy: 0.9510\n",
      "Epoch 6/10\n",
      "72/72 [==============================] - 15s 209ms/step - loss: 0.1251 - accuracy: 0.9493 - val_loss: 0.1927 - val_accuracy: 0.9406\n",
      "Epoch 7/10\n",
      "72/72 [==============================] - 15s 210ms/step - loss: 0.0955 - accuracy: 0.9668 - val_loss: 0.1952 - val_accuracy: 0.9510\n",
      "Epoch 8/10\n",
      "72/72 [==============================] - 15s 210ms/step - loss: 0.1075 - accuracy: 0.9646 - val_loss: 0.2874 - val_accuracy: 0.8899\n",
      "Epoch 9/10\n",
      "72/72 [==============================] - 15s 209ms/step - loss: 0.0940 - accuracy: 0.9646 - val_loss: 0.2104 - val_accuracy: 0.9441\n",
      "Epoch 10/10\n",
      "72/72 [==============================] - 15s 209ms/step - loss: 0.0738 - accuracy: 0.9716 - val_loss: 0.2575 - val_accuracy: 0.9266\n",
      "18/18 [==============================] - 1s 54ms/step\n",
      "CNN Binary Accuracy: 0.9266\n",
      "CNN AUC: 0.9769\n",
      "CNN Precision: 0.8878\n",
      "CNN Recall: 0.9754\n",
      "CNN Confusion Matrix:\n",
      "[[253  35]\n",
      " [  7 277]]\n"
     ]
    }
   ],
   "source": [
    "# CNN\n",
    "import tensorflow as tf\n",
    "from tensorflow.keras.models import Sequential\n",
    "from tensorflow.keras.layers import Conv2D, MaxPooling2D, Flatten, Dense\n",
    "from tensorflow.keras.optimizers import Adam\n",
    "from sklearn.metrics import accuracy_score, roc_auc_score, precision_score, recall_score, confusion_matrix\n",
    "import numpy as np\n",
    "\n",
    "trainLabels = np.argmax(trainLabels, axis=1)  \n",
    "testLabels = np.argmax(testLabels, axis=1)  \n",
    "\n",
    "trainData = trainData.reshape(-1, 256, 256, 1)  \n",
    "testData = testData.reshape(-1, 256, 256, 1)  \n",
    "\n",
    "cnn_model = Sequential()\n",
    "\n",
    "cnn_model.add(Conv2D(32, (3, 3), activation='relu', input_shape=(256, 256, 1)))\n",
    "cnn_model.add(MaxPooling2D(pool_size=(2, 2)))\n",
    "\n",
    "cnn_model.add(Conv2D(32, (3, 3), activation='relu'))\n",
    "cnn_model.add(MaxPooling2D(pool_size=(2, 2)))\n",
    "\n",
    "cnn_model.add(Conv2D(32, (3, 3), activation='relu'))\n",
    "cnn_model.add(MaxPooling2D(pool_size=(2, 2)))\n",
    "\n",
    "cnn_model.add(Flatten())\n",
    "\n",
    "cnn_model.add(Dense(512, activation='relu'))\n",
    "\n",
    "cnn_model.add(Dense(1, activation='sigmoid'))\n",
    "\n",
    "cnn_model.compile(optimizer=Adam(), loss='binary_crossentropy', metrics=['accuracy'])\n",
    "\n",
    "cnn_model.fit(trainData, trainLabels, epochs=10, batch_size=32, validation_data=(testData, testLabels), verbose=1)\n",
    "\n",
    "cnn_preds_proba = cnn_model.predict(testData).flatten()  \n",
    "cnn_preds_binary = (cnn_preds_proba > 0.5).astype(int)  \n",
    "\n",
    "cnn_accuracy = accuracy_score(testLabels, cnn_preds_binary)\n",
    "cnn_auc = roc_auc_score(testLabels, cnn_preds_proba)\n",
    "cnn_precision = precision_score(testLabels, cnn_preds_binary)\n",
    "cnn_recall = recall_score(testLabels, cnn_preds_binary)\n",
    "cnn_conf_matrix = confusion_matrix(testLabels, cnn_preds_binary)\n",
    "\n",
    "\n",
    "print(f'CNN Binary Accuracy: {cnn_accuracy:.4f}')\n",
    "print(f'CNN AUC: {cnn_auc:.4f}')\n",
    "print(f'CNN Precision: {cnn_precision:.4f}')\n",
    "print(f'CNN Recall: {cnn_recall:.4f}')\n",
    "print('CNN Confusion Matrix:')\n",
    "print(cnn_conf_matrix)\n",
    "\n"
   ]
  },
  {
   "cell_type": "markdown",
   "metadata": {
    "cell_id": "514a99a1b50844eb8467960ff89e648f",
    "deepnote_cell_height": 257.59375,
    "deepnote_cell_type": "markdown"
   },
   "source": [
    "# 3. Deep Learning Models\n",
    "We will use keras to create deep learning models. Since we are dealing with images, we will use convolutional layers. For more details, please visit: https://keras.io/layers/convolutional/\n",
    "\n",
    "\n",
    "## 3.1 Parameterized Convolutional Neural Networks\n",
    "We will first provide you with a simple function that takes in a few parameters and create a convolutional neural network model for you. This is the easiest way to create a CNN model."
   ]
  },
  {
   "cell_type": "code",
   "execution_count": 15,
   "metadata": {
    "cell_id": "44ec4cc4465e4e05b4cd8fa14ea13c31",
    "deepnote_cell_type": "code",
    "deepnote_to_be_reexecuted": false,
    "execution_millis": 1,
    "execution_start": 1673120439140,
    "source_hash": "5c0a232b"
   },
   "outputs": [],
   "source": [
    "def createParameterizedConvolutionalNeuralNetwork(trainImages, numLayers, numFilters, kernelSize, maxPooling, dropoutValue, learningRate, numClasses):\n",
    "    # Create model object\n",
    "    model = Sequential()\n",
    "    \n",
    "    # Add the first layer with dropout\n",
    "    model.add(Conv2D(numFilters, kernel_size=(kernelSize, kernelSize),\n",
    "                       activation='relu', padding = 'same',\n",
    "                     input_shape=trainImages.shape[1:]))\n",
    "    model.add(MaxPooling2D(pool_size=(maxPooling, maxPooling)))\n",
    "    model.add(Dropout(dropoutValue))\n",
    "    \n",
    "    while numLayers > 1:\n",
    "        model.add(Conv2D(numFilters, kernel_size=(kernelSize, kernelSize),\n",
    "                     activation='relu', padding = 'same'))\n",
    "        model.add(MaxPooling2D(pool_size=(maxPooling, maxPooling)))\n",
    "        model.add(Dropout(dropoutValue))\n",
    "        \n",
    "        numLayers = numLayers - 1\n",
    "        \n",
    "    # Convolutional layers are done, adding the remaining stuff. Please note that after conv layers, you should always use a Flatten() layer.\n",
    "    model.add(Flatten())\n",
    "    model.add(Dense(64, activation='relu'))\n",
    "    model.add(Dropout(dropoutValue))\n",
    "    model.add(Dense(numClasses, activation='softmax'))\n",
    "\n",
    "    # Compile model. You can skip this line.\n",
    "    model.compile(loss=keras.losses.categorical_crossentropy,\n",
    "                  optimizer=keras.optimizers.Adam(lr=learningRate),\n",
    "                  metrics=['accuracy'])\n",
    "    \n",
    "    # Return model\n",
    "    return model"
   ]
  },
  {
   "cell_type": "markdown",
   "metadata": {
    "cell_id": "85a6384fe38d4bdfaee68314facc2390",
    "deepnote_cell_height": 130.796875,
    "deepnote_cell_type": "markdown"
   },
   "source": [
    "## 3.2 More Nuanced Convolutional Neural Networks\n",
    "In this section, we provide you with a function where you can edit tiny details of the model to see if it can give you a greater lift as compared to the parameterized model."
   ]
  },
  {
   "cell_type": "code",
   "execution_count": 16,
   "metadata": {
    "cell_id": "a0e3c77fb9fb43ab9b2e2722e257fad2",
    "deepnote_cell_type": "code",
    "deepnote_to_be_reexecuted": false,
    "execution_millis": 0,
    "execution_start": 1673120439141,
    "source_hash": "1dc053fa"
   },
   "outputs": [],
   "source": [
    "def createNuancedConvolutionalNeuralNetwork(trainImages, numClasses):\n",
    "    \"\"\"\n",
    "    You should try to edit this model as much as you can. Try adding/removing layers, setting different parameters for different layers etc. You have complete control of the model and you should try different things to see what works and what does not.\n",
    "    \"\"\"\n",
    "        # Create model object\n",
    "    model = Sequential()\n",
    "    \n",
    "    # Add the first layer with dropout\n",
    "    model.add(Conv2D(filters = 64, kernel_size=(3, 3),\n",
    "                     activation='relu', padding = 'same',\n",
    "                     input_shape=trainImages.shape[1:]))\n",
    "    model.add(MaxPooling2D(pool_size=(2, 2)))\n",
    "    model.add(Dropout(0.3))\n",
    "    \n",
    "    # Second layer with different parameters\n",
    "    model.add(Conv2D(filters = 64, kernel_size=(4, 4),\n",
    "                     activation='relu', padding = 'same'))\n",
    "    model.add(MaxPooling2D(pool_size=(2, 2)))\n",
    "    model.add(Dropout(0.3))\n",
    "\n",
    "    # Third layer with different parameters\n",
    "    model.add(Conv2D(filters = 64, kernel_size=(4, 4),\n",
    "                     activation='relu', padding = 'same'))\n",
    "    model.add(MaxPooling2D(pool_size=(2, 2)))\n",
    "    model.add(Dropout(0.3))\n",
    "\n",
    "    # Fourth layer with different parameters\n",
    "    model.add(Conv2D(filters = 64, kernel_size=(5, 5),\n",
    "                     activation='relu', padding = 'same'))\n",
    "    model.add(MaxPooling2D(pool_size=(2, 2)))\n",
    "    model.add(Dropout(0.3))\n",
    "    \n",
    "    # Convolutional layers are done, adding the remaining stuff. Please note that after conv layers, you should always use a Flatten() layer.\n",
    "    model.add(Flatten())\n",
    "    model.add(Dense(64, activation='relu'))\n",
    "    model.add(Dense(32, activation='relu'))\n",
    "    model.add(Dropout(0.3))\n",
    "    model.add(Dense(numClasses, activation='softmax'))\n",
    "\n",
    "    # Compile model. You can skip this line.\n",
    "    model.compile(loss=keras.losses.categorical_crossentropy,\n",
    "                  optimizer=keras.optimizers.Adam(lr=0.0001),\n",
    "                  metrics=['accuracy'])\n",
    "    \n",
    "    # Return model\n",
    "    return model\n"
   ]
  },
  {
   "cell_type": "markdown",
   "metadata": {
    "cell_id": "a664454b84af4ef894ec0f4a2e7b4d3b",
    "deepnote_cell_height": 221.1875,
    "deepnote_cell_type": "markdown"
   },
   "source": [
    "# 4. Model Training\n",
    "## 4.1 Data Augmentation\n",
    "Deep learning models require huge amounts of data for good performance. Since we only have around 5k examples, we will use what's called \"Data Augmentation\" to create more data. To read more on data augmentation, please visit: https://towardsdatascience.com/data-augmentation-for-deep-learning-4fe21d1a4eb9"
   ]
  },
  {
   "cell_type": "code",
   "execution_count": 17,
   "metadata": {
    "cell_id": "f0f025ef0d3e4a6f91a101fc1368051d",
    "deepnote_cell_type": "code",
    "deepnote_to_be_reexecuted": false,
    "execution_millis": 3,
    "execution_start": 1673120439142,
    "source_hash": "3ac9de27"
   },
   "outputs": [
    {
     "data": {
      "text/html": [
       "<img src onerror=\"var cell = this.closest('.code_cell');var editor = cell.querySelector('.input_area');editor.style.background='#fce53a';this.parentNode.removeChild(this)\">"
      ],
      "text/plain": [
       "<IPython.core.display.HTML object>"
      ]
     },
     "metadata": {},
     "output_type": "display_data"
    }
   ],
   "source": [
    "set_background('#fce53a')\n",
    "\n",
    "#####################################################################################################################################################\n",
    "# Things you can change                                                                                                                             \n",
    "#####################################################################################################################################################\n",
    "\n",
    "# You can change all these parameters for different results. Please go to the following links to read more about each parameter: \n",
    "# https://keras.io/preprocessing/image/\n",
    "# https://www.pyimagesearch.com/2019/07/08/keras-imagedatagenerator-and-data-augmentation/\n",
    "dataAugmentation = ImageDataGenerator(\n",
    "    rotation_range=12,\n",
    "    width_shift_range=0.05,\n",
    "    height_shift_range=0.05,\n",
    "    horizontal_flip=True,\n",
    "    vertical_flip=False,\n",
    "    shear_range=0.15,\n",
    "    zoom_range=0.15)"
   ]
  },
  {
   "cell_type": "markdown",
   "metadata": {
    "cell_id": "55675ff44a4c41a7bf3776eac6d0f2b7",
    "deepnote_cell_height": 70,
    "deepnote_cell_type": "markdown"
   },
   "source": [
    "## 4.2 Model Parameters"
   ]
  },
  {
   "cell_type": "code",
   "execution_count": 18,
   "metadata": {
    "cell_id": "dde1f5f79a6c48be80053186b2f9a362",
    "deepnote_cell_type": "code",
    "deepnote_to_be_reexecuted": false,
    "execution_millis": 79,
    "execution_start": 1673120439189,
    "source_hash": "64bc72de"
   },
   "outputs": [
    {
     "data": {
      "text/html": [
       "<img src onerror=\"var cell = this.closest('.code_cell');var editor = cell.querySelector('.input_area');editor.style.background='#fce53a';this.parentNode.removeChild(this)\">"
      ],
      "text/plain": [
       "<IPython.core.display.HTML object>"
      ]
     },
     "metadata": {},
     "output_type": "display_data"
    }
   ],
   "source": [
    "set_background('#fce53a')\n",
    "\n",
    "#####################################################################################################################################################\n",
    "# Things you can change                                                                                                                             \n",
    "#####################################################################################################################################################\n",
    "numLayers = 3 # Number of layers in the neural network\n",
    "numFilters = 64 # Number of units in each layer\n",
    "kernelSize = 5 # filter size of a single filter\n",
    "dropoutValue = 0.3 # Dropout probability\n",
    "maxPooling = 2 # Max pooling\n",
    "numClasses = 2 # Don't change this value for pneumonia since we have 2 classes i.e we are trying to recognize a digit among 10 digits. But for any other data set, this should be changed\n",
    "batchSize = 32 # How many images should a single batch contain\n",
    "learningRate = 0.0001 # How fast should the model learn\n",
    "epochs = 33 # Number of epochs to train your model for\n",
    "USE_DATA_AUGMENTATION = True # You can set it to false if you do not want to use data augmentation. We recommend trying both true and false.\n",
    "#####################################################################################################################################################\n",
    "\n",
    "\n",
    "# Please do not change this line.\n",
    "dataAugmentation.fit(trainData) # Training the augmentor in case we set USE_DATA_AUGMENTATION to True."
   ]
  },
  {
   "cell_type": "markdown",
   "metadata": {
    "cell_id": "305d2356eb614181b22ed2e927ead792",
    "deepnote_cell_height": 70,
    "deepnote_cell_type": "markdown"
   },
   "source": [
    "## 4.3 Training and Validation"
   ]
  },
  {
   "cell_type": "markdown",
   "metadata": {
    "cell_id": "15a589683f49499ca7123d1824cc5fed",
    "deepnote_cell_height": 62,
    "deepnote_cell_type": "markdown"
   },
   "source": [
    "### 4.3.1 Model Instantiation"
   ]
  },
  {
   "cell_type": "code",
   "execution_count": 19,
   "metadata": {
    "cell_id": "a58944a9209f49d99d7b84d19a9a2834",
    "deepnote_cell_type": "code",
    "deepnote_to_be_reexecuted": false,
    "execution_millis": 254,
    "execution_start": 1673120439270,
    "source_hash": "ebe3f66e"
   },
   "outputs": [
    {
     "name": "stderr",
     "output_type": "stream",
     "text": [
      "WARNING:absl:`lr` is deprecated in Keras optimizer, please use `learning_rate` or use the legacy optimizer, e.g.,tf.keras.optimizers.legacy.Adam.\n"
     ]
    },
    {
     "name": "stdout",
     "output_type": "stream",
     "text": [
      "+ Your parameterized model has been created...\n"
     ]
    }
   ],
   "source": [
    "# Create model\n",
    "parameterizedModel = createParameterizedConvolutionalNeuralNetwork(trainData, numLayers, numFilters, kernelSize, maxPooling, dropoutValue, learningRate, numClasses = 2)\n",
    "print(\"+ Your parameterized model has been created...\")"
   ]
  },
  {
   "cell_type": "code",
   "execution_count": 20,
   "metadata": {
    "cell_id": "16db5ab459b444128f6385ac4bfd2668",
    "deepnote_cell_type": "code",
    "deepnote_to_be_reexecuted": false,
    "execution_millis": 55,
    "execution_start": 1673120439528,
    "source_hash": "713b3f04"
   },
   "outputs": [
    {
     "name": "stderr",
     "output_type": "stream",
     "text": [
      "WARNING:absl:`lr` is deprecated in Keras optimizer, please use `learning_rate` or use the legacy optimizer, e.g.,tf.keras.optimizers.legacy.Adam.\n"
     ]
    },
    {
     "name": "stdout",
     "output_type": "stream",
     "text": [
      "+ Your non parameterized model has been created...\n"
     ]
    }
   ],
   "source": [
    "# You can create the other model with the following line\n",
    "nonParameterizedModel = createNuancedConvolutionalNeuralNetwork(imagesData, numClasses = 2)\n",
    "print(\"+ Your non parameterized model has been created...\")"
   ]
  },
  {
   "cell_type": "code",
   "execution_count": 21,
   "metadata": {
    "cell_id": "9ef3f3346e6c4d54a5c4906e5849a781",
    "deepnote_cell_type": "code",
    "deepnote_to_be_reexecuted": false,
    "execution_millis": 1,
    "execution_start": 1673120439626,
    "source_hash": "5176a77d"
   },
   "outputs": [],
   "source": [
    "#####################################################################################################################################################\n",
    "# Things you can change                                                                                                                             \n",
    "#####################################################################################################################################################\n",
    "\n",
    "# Please assign model the deep learning model you want to use i.e parameterizedModel or nonParameterizedModel\n",
    "model = parameterizedModel"
   ]
  },
  {
   "cell_type": "markdown",
   "metadata": {
    "cell_id": "ae5a544df48c42d5ac9a572466329ca5",
    "deepnote_cell_height": 62,
    "deepnote_cell_type": "markdown"
   },
   "source": [
    "### 4.3.2 Model Training and Validation"
   ]
  },
  {
   "cell_type": "code",
   "execution_count": 22,
   "metadata": {
    "cell_id": "8dec7a07422d49438054da63e64ed163",
    "deepnote_cell_type": "code",
    "deepnote_to_be_reexecuted": false,
    "execution_millis": 46625,
    "execution_start": 1673120439627,
    "source_hash": "bf2960e9"
   },
   "outputs": [
    {
     "name": "stderr",
     "output_type": "stream",
     "text": [
      "/tmp/ipykernel_4273/716637137.py:17: UserWarning: `Model.fit_generator` is deprecated and will be removed in a future version. Please use `Model.fit`, which supports generators.\n",
      "  model.fit_generator(dataAugmentation.flow(trainData, trainLabels, batch_size=batchSize),\n"
     ]
    },
    {
     "name": "stdout",
     "output_type": "stream",
     "text": [
      "+ Starting training. Each epoch can take about 2-5 minutes, hold tight!\n",
      "-----------------------------------------------------------------------\n",
      "\n",
      "71/71 - 66s - loss: 0.7262 - accuracy: 0.5573 - 66s/epoch - 928ms/step\n",
      "18/18 [==============================] - 4s 236ms/step - loss: 0.6569 - accuracy: 0.7098\n",
      "18/18 [==============================] - 4s 234ms/step\n",
      "18/18 [==============================] - 4s 232ms/step\n",
      "+ Test accuracy at epoch 0 is: 70.98 \n",
      "+ Test AUC at epoch 0 is: 73.700 \n",
      "+ Writing kaggle test results in : results/epoch-0-results.csv...\n",
      "7/7 [==============================] - 1s 205ms/step\n",
      "\n",
      "\n",
      "72/72 - 62s - loss: 0.4841 - accuracy: 0.7845 - 62s/epoch - 866ms/step\n",
      "18/18 [==============================] - 4s 233ms/step - loss: 0.2825 - accuracy: 0.9021\n",
      "18/18 [==============================] - 4s 233ms/step\n",
      "18/18 [==============================] - 4s 238ms/step\n",
      "+ Test accuracy at epoch 1 is: 90.21 \n",
      "+ Test AUC at epoch 1 is: 95.390 \n",
      "+ Writing kaggle test results in : results/epoch-1-results.csv...\n",
      "7/7 [==============================] - 2s 211ms/step\n",
      "\n",
      "\n"
     ]
    },
    {
     "name": "stderr",
     "output_type": "stream",
     "text": [
      "/tmp/ipykernel_4273/716637137.py:17: UserWarning: `Model.fit_generator` is deprecated and will be removed in a future version. Please use `Model.fit`, which supports generators.\n",
      "  model.fit_generator(dataAugmentation.flow(trainData, trainLabels, batch_size=batchSize),\n"
     ]
    },
    {
     "name": "stdout",
     "output_type": "stream",
     "text": [
      "71/71 - 66s - loss: 0.5049 - accuracy: 0.7719 - 66s/epoch - 917ms/step\n",
      "18/18 [==============================] - 4s 235ms/step - loss: 0.3901 - accuracy: 0.8042\n",
      "18/18 [==============================] - 4s 233ms/step\n",
      "18/18 [==============================] - 4s 234ms/step\n",
      "+ Test accuracy at epoch 2 is: 80.42 \n",
      "+ Test AUC at epoch 2 is: 93.840 \n",
      "\n",
      "\n",
      "72/72 - 62s - loss: 0.3016 - accuracy: 0.8816 - 62s/epoch - 865ms/step\n",
      "18/18 [==============================] - 4s 235ms/step - loss: 0.2560 - accuracy: 0.9213\n",
      "18/18 [==============================] - 4s 235ms/step\n",
      "18/18 [==============================] - 4s 236ms/step\n",
      "+ Test accuracy at epoch 3 is: 92.13 \n",
      "+ Test AUC at epoch 3 is: 97.250 \n",
      "+ Writing kaggle test results in : results/epoch-3-results.csv...\n",
      "7/7 [==============================] - 1s 206ms/step\n",
      "\n",
      "\n"
     ]
    },
    {
     "name": "stderr",
     "output_type": "stream",
     "text": [
      "/tmp/ipykernel_4273/716637137.py:17: UserWarning: `Model.fit_generator` is deprecated and will be removed in a future version. Please use `Model.fit`, which supports generators.\n",
      "  model.fit_generator(dataAugmentation.flow(trainData, trainLabels, batch_size=batchSize),\n"
     ]
    },
    {
     "name": "stdout",
     "output_type": "stream",
     "text": [
      "71/71 - 65s - loss: 0.4055 - accuracy: 0.8260 - 65s/epoch - 911ms/step\n",
      "18/18 [==============================] - 4s 231ms/step - loss: 0.2536 - accuracy: 0.9091\n",
      "18/18 [==============================] - 4s 234ms/step\n",
      "18/18 [==============================] - 4s 234ms/step\n",
      "+ Test accuracy at epoch 4 is: 90.91 \n",
      "+ Test AUC at epoch 4 is: 96.570 \n",
      "\n",
      "\n",
      "72/72 - 62s - loss: 0.2295 - accuracy: 0.9174 - 62s/epoch - 867ms/step\n",
      "18/18 [==============================] - 4s 235ms/step - loss: 0.2430 - accuracy: 0.9283\n",
      "18/18 [==============================] - 4s 239ms/step\n",
      "18/18 [==============================] - 4s 232ms/step\n",
      "+ Test accuracy at epoch 5 is: 92.83 \n",
      "+ Test AUC at epoch 5 is: 97.050 \n",
      "\n",
      "\n"
     ]
    },
    {
     "name": "stderr",
     "output_type": "stream",
     "text": [
      "/tmp/ipykernel_4273/716637137.py:17: UserWarning: `Model.fit_generator` is deprecated and will be removed in a future version. Please use `Model.fit`, which supports generators.\n",
      "  model.fit_generator(dataAugmentation.flow(trainData, trainLabels, batch_size=batchSize),\n"
     ]
    },
    {
     "name": "stdout",
     "output_type": "stream",
     "text": [
      "71/71 - 66s - loss: 0.3615 - accuracy: 0.8510 - 66s/epoch - 918ms/step\n",
      "18/18 [==============================] - 4s 233ms/step - loss: 0.2059 - accuracy: 0.9266\n",
      "18/18 [==============================] - 4s 238ms/step\n",
      "18/18 [==============================] - 4s 233ms/step\n",
      "+ Test accuracy at epoch 6 is: 92.66 \n",
      "+ Test AUC at epoch 6 is: 97.530 \n",
      "+ Writing kaggle test results in : results/epoch-6-results.csv...\n",
      "7/7 [==============================] - 1s 203ms/step\n",
      "\n",
      "\n",
      "72/72 - 62s - loss: 0.1896 - accuracy: 0.9279 - 62s/epoch - 862ms/step\n",
      "18/18 [==============================] - 4s 235ms/step - loss: 0.2010 - accuracy: 0.9406\n",
      "18/18 [==============================] - 4s 231ms/step\n",
      "18/18 [==============================] - 4s 233ms/step\n",
      "+ Test accuracy at epoch 7 is: 94.06 \n",
      "+ Test AUC at epoch 7 is: 97.880 \n",
      "+ Writing kaggle test results in : results/epoch-7-results.csv...\n",
      "7/7 [==============================] - 1s 205ms/step\n",
      "\n",
      "\n"
     ]
    },
    {
     "name": "stderr",
     "output_type": "stream",
     "text": [
      "/tmp/ipykernel_4273/716637137.py:17: UserWarning: `Model.fit_generator` is deprecated and will be removed in a future version. Please use `Model.fit`, which supports generators.\n",
      "  model.fit_generator(dataAugmentation.flow(trainData, trainLabels, batch_size=batchSize),\n"
     ]
    },
    {
     "name": "stdout",
     "output_type": "stream",
     "text": [
      "71/71 - 65s - loss: 0.3134 - accuracy: 0.8767 - 65s/epoch - 914ms/step\n",
      "18/18 [==============================] - 4s 233ms/step - loss: 0.3151 - accuracy: 0.8409\n",
      "18/18 [==============================] - 4s 231ms/step\n",
      "18/18 [==============================] - 4s 233ms/step\n",
      "+ Test accuracy at epoch 8 is: 84.09 \n",
      "+ Test AUC at epoch 8 is: 97.670 \n",
      "\n",
      "\n",
      "72/72 - 62s - loss: 0.1896 - accuracy: 0.9296 - 62s/epoch - 864ms/step\n",
      "18/18 [==============================] - 4s 234ms/step - loss: 0.1787 - accuracy: 0.9423\n",
      "18/18 [==============================] - 4s 234ms/step\n",
      "18/18 [==============================] - 4s 234ms/step\n",
      "+ Test accuracy at epoch 9 is: 94.23 \n",
      "+ Test AUC at epoch 9 is: 98.300 \n",
      "+ Writing kaggle test results in : results/epoch-9-results.csv...\n",
      "7/7 [==============================] - 1s 206ms/step\n",
      "\n",
      "\n"
     ]
    },
    {
     "name": "stderr",
     "output_type": "stream",
     "text": [
      "/tmp/ipykernel_4273/716637137.py:17: UserWarning: `Model.fit_generator` is deprecated and will be removed in a future version. Please use `Model.fit`, which supports generators.\n",
      "  model.fit_generator(dataAugmentation.flow(trainData, trainLabels, batch_size=batchSize),\n"
     ]
    },
    {
     "name": "stdout",
     "output_type": "stream",
     "text": [
      "71/71 - 65s - loss: 0.3126 - accuracy: 0.8667 - 65s/epoch - 915ms/step\n",
      "18/18 [==============================] - 4s 234ms/step - loss: 0.1950 - accuracy: 0.9441\n",
      "18/18 [==============================] - 4s 233ms/step\n",
      "18/18 [==============================] - 4s 232ms/step\n",
      "+ Test accuracy at epoch 10 is: 94.41 \n",
      "+ Test AUC at epoch 10 is: 98.210 \n",
      "\n",
      "\n",
      "72/72 - 62s - loss: 0.1539 - accuracy: 0.9441 - 62s/epoch - 864ms/step\n",
      "18/18 [==============================] - 4s 233ms/step - loss: 0.1669 - accuracy: 0.9476\n",
      "18/18 [==============================] - 4s 233ms/step\n",
      "18/18 [==============================] - 4s 234ms/step\n",
      "+ Test accuracy at epoch 11 is: 94.75 \n",
      "+ Test AUC at epoch 11 is: 98.300 \n",
      "\n",
      "\n"
     ]
    },
    {
     "name": "stderr",
     "output_type": "stream",
     "text": [
      "/tmp/ipykernel_4273/716637137.py:17: UserWarning: `Model.fit_generator` is deprecated and will be removed in a future version. Please use `Model.fit`, which supports generators.\n",
      "  model.fit_generator(dataAugmentation.flow(trainData, trainLabels, batch_size=batchSize),\n"
     ]
    },
    {
     "name": "stdout",
     "output_type": "stream",
     "text": [
      "71/71 - 65s - loss: 0.2785 - accuracy: 0.8894 - 65s/epoch - 913ms/step\n",
      "18/18 [==============================] - 4s 234ms/step - loss: 0.1657 - accuracy: 0.9423\n",
      "18/18 [==============================] - 4s 235ms/step\n",
      "18/18 [==============================] - 4s 237ms/step\n",
      "+ Test accuracy at epoch 12 is: 94.23 \n",
      "+ Test AUC at epoch 12 is: 98.400 \n",
      "+ Writing kaggle test results in : results/epoch-12-results.csv...\n",
      "7/7 [==============================] - 1s 207ms/step\n",
      "\n",
      "\n",
      "72/72 - 62s - loss: 0.1430 - accuracy: 0.9432 - 62s/epoch - 866ms/step\n",
      "18/18 [==============================] - 4s 233ms/step - loss: 0.1504 - accuracy: 0.9580\n",
      "18/18 [==============================] - 4s 238ms/step\n",
      "18/18 [==============================] - 4s 235ms/step\n",
      "+ Test accuracy at epoch 13 is: 95.80 \n",
      "+ Test AUC at epoch 13 is: 98.460 \n",
      "+ Writing kaggle test results in : results/epoch-13-results.csv...\n",
      "7/7 [==============================] - 1s 204ms/step\n",
      "\n",
      "\n"
     ]
    },
    {
     "name": "stderr",
     "output_type": "stream",
     "text": [
      "/tmp/ipykernel_4273/716637137.py:17: UserWarning: `Model.fit_generator` is deprecated and will be removed in a future version. Please use `Model.fit`, which supports generators.\n",
      "  model.fit_generator(dataAugmentation.flow(trainData, trainLabels, batch_size=batchSize),\n"
     ]
    },
    {
     "name": "stdout",
     "output_type": "stream",
     "text": [
      "71/71 - 67s - loss: 0.2629 - accuracy: 0.8912 - 67s/epoch - 934ms/step\n",
      "18/18 [==============================] - 5s 289ms/step - loss: 0.1773 - accuracy: 0.9476\n",
      "18/18 [==============================] - 5s 291ms/step\n",
      "18/18 [==============================] - 5s 289ms/step\n",
      "+ Test accuracy at epoch 14 is: 94.75 \n",
      "+ Test AUC at epoch 14 is: 98.350 \n",
      "\n",
      "\n",
      "72/72 - 73s - loss: 0.1420 - accuracy: 0.9480 - 73s/epoch - 1s/step\n",
      "18/18 [==============================] - 5s 289ms/step - loss: 0.1517 - accuracy: 0.9563\n",
      "18/18 [==============================] - 5s 290ms/step\n",
      "18/18 [==============================] - 5s 288ms/step\n",
      "+ Test accuracy at epoch 15 is: 95.63 \n",
      "+ Test AUC at epoch 15 is: 98.440 \n",
      "\n",
      "\n"
     ]
    },
    {
     "name": "stderr",
     "output_type": "stream",
     "text": [
      "/tmp/ipykernel_4273/716637137.py:17: UserWarning: `Model.fit_generator` is deprecated and will be removed in a future version. Please use `Model.fit`, which supports generators.\n",
      "  model.fit_generator(dataAugmentation.flow(trainData, trainLabels, batch_size=batchSize),\n"
     ]
    },
    {
     "name": "stdout",
     "output_type": "stream",
     "text": [
      "71/71 - 74s - loss: 0.2536 - accuracy: 0.8960 - 74s/epoch - 1s/step\n",
      "18/18 [==============================] - 5s 290ms/step - loss: 0.1535 - accuracy: 0.9476\n",
      "18/18 [==============================] - 5s 287ms/step\n",
      "18/18 [==============================] - 5s 289ms/step\n",
      "+ Test accuracy at epoch 16 is: 94.75 \n",
      "+ Test AUC at epoch 16 is: 98.570 \n",
      "+ Writing kaggle test results in : results/epoch-16-results.csv...\n",
      "7/7 [==============================] - 2s 255ms/step\n",
      "\n",
      "\n",
      "72/72 - 73s - loss: 0.1258 - accuracy: 0.9484 - 73s/epoch - 1s/step\n",
      "18/18 [==============================] - 5s 290ms/step - loss: 0.1442 - accuracy: 0.9528\n",
      "18/18 [==============================] - 5s 290ms/step\n",
      "18/18 [==============================] - 5s 288ms/step\n",
      "+ Test accuracy at epoch 17 is: 95.28 \n",
      "+ Test AUC at epoch 17 is: 98.760 \n",
      "+ Writing kaggle test results in : results/epoch-17-results.csv...\n",
      "7/7 [==============================] - 2s 254ms/step\n",
      "\n",
      "\n"
     ]
    },
    {
     "name": "stderr",
     "output_type": "stream",
     "text": [
      "/tmp/ipykernel_4273/716637137.py:17: UserWarning: `Model.fit_generator` is deprecated and will be removed in a future version. Please use `Model.fit`, which supports generators.\n",
      "  model.fit_generator(dataAugmentation.flow(trainData, trainLabels, batch_size=batchSize),\n"
     ]
    },
    {
     "name": "stdout",
     "output_type": "stream",
     "text": [
      "71/71 - 74s - loss: 0.2690 - accuracy: 0.8986 - 74s/epoch - 1s/step\n",
      "18/18 [==============================] - 5s 291ms/step - loss: 0.2641 - accuracy: 0.8846\n",
      "18/18 [==============================] - 5s 287ms/step\n",
      "18/18 [==============================] - 5s 291ms/step\n",
      "+ Test accuracy at epoch 18 is: 88.46 \n",
      "+ Test AUC at epoch 18 is: 98.040 \n",
      "\n",
      "\n",
      "72/72 - 72s - loss: 0.1435 - accuracy: 0.9449 - 72s/epoch - 1s/step\n",
      "18/18 [==============================] - 5s 291ms/step - loss: 0.1530 - accuracy: 0.9493\n",
      "18/18 [==============================] - 5s 288ms/step\n",
      "18/18 [==============================] - 5s 287ms/step\n",
      "+ Test accuracy at epoch 19 is: 94.93 \n",
      "+ Test AUC at epoch 19 is: 98.630 \n",
      "\n",
      "\n"
     ]
    },
    {
     "name": "stderr",
     "output_type": "stream",
     "text": [
      "/tmp/ipykernel_4273/716637137.py:17: UserWarning: `Model.fit_generator` is deprecated and will be removed in a future version. Please use `Model.fit`, which supports generators.\n",
      "  model.fit_generator(dataAugmentation.flow(trainData, trainLabels, batch_size=batchSize),\n"
     ]
    },
    {
     "name": "stdout",
     "output_type": "stream",
     "text": [
      "71/71 - 73s - loss: 0.2569 - accuracy: 0.9017 - 73s/epoch - 1s/step\n",
      "18/18 [==============================] - 5s 291ms/step - loss: 0.1546 - accuracy: 0.9528\n",
      "18/18 [==============================] - 5s 287ms/step\n",
      "18/18 [==============================] - 5s 288ms/step\n",
      "+ Test accuracy at epoch 20 is: 95.28 \n",
      "+ Test AUC at epoch 20 is: 98.670 \n",
      "\n",
      "\n",
      "72/72 - 72s - loss: 0.1073 - accuracy: 0.9624 - 72s/epoch - 1s/step\n",
      "18/18 [==============================] - 5s 289ms/step - loss: 0.1492 - accuracy: 0.9545\n",
      "18/18 [==============================] - 5s 258ms/step\n",
      "18/18 [==============================] - 4s 232ms/step\n",
      "+ Test accuracy at epoch 21 is: 95.45 \n",
      "+ Test AUC at epoch 21 is: 98.570 \n",
      "\n",
      "\n"
     ]
    },
    {
     "name": "stderr",
     "output_type": "stream",
     "text": [
      "/tmp/ipykernel_4273/716637137.py:17: UserWarning: `Model.fit_generator` is deprecated and will be removed in a future version. Please use `Model.fit`, which supports generators.\n",
      "  model.fit_generator(dataAugmentation.flow(trainData, trainLabels, batch_size=batchSize),\n"
     ]
    },
    {
     "name": "stdout",
     "output_type": "stream",
     "text": [
      "71/71 - 65s - loss: 0.2710 - accuracy: 0.8964 - 65s/epoch - 914ms/step\n",
      "18/18 [==============================] - 4s 231ms/step - loss: 0.1614 - accuracy: 0.9580\n",
      "18/18 [==============================] - 4s 237ms/step\n",
      "18/18 [==============================] - 4s 232ms/step\n",
      "+ Test accuracy at epoch 22 is: 95.80 \n",
      "+ Test AUC at epoch 22 is: 98.550 \n",
      "\n",
      "\n",
      "72/72 - 62s - loss: 0.1126 - accuracy: 0.9585 - 62s/epoch - 864ms/step\n",
      "18/18 [==============================] - 4s 236ms/step - loss: 0.1439 - accuracy: 0.9545\n",
      "18/18 [==============================] - 4s 232ms/step\n",
      "18/18 [==============================] - 4s 233ms/step\n",
      "+ Test accuracy at epoch 23 is: 95.45 \n",
      "+ Test AUC at epoch 23 is: 98.670 \n",
      "\n",
      "\n"
     ]
    },
    {
     "name": "stderr",
     "output_type": "stream",
     "text": [
      "/tmp/ipykernel_4273/716637137.py:17: UserWarning: `Model.fit_generator` is deprecated and will be removed in a future version. Please use `Model.fit`, which supports generators.\n",
      "  model.fit_generator(dataAugmentation.flow(trainData, trainLabels, batch_size=batchSize),\n"
     ]
    },
    {
     "name": "stdout",
     "output_type": "stream",
     "text": [
      "71/71 - 65s - loss: 0.2388 - accuracy: 0.9148 - 65s/epoch - 916ms/step\n",
      "18/18 [==============================] - 4s 234ms/step - loss: 0.1812 - accuracy: 0.9371\n",
      "18/18 [==============================] - 4s 235ms/step\n",
      "18/18 [==============================] - 4s 232ms/step\n",
      "+ Test accuracy at epoch 24 is: 93.71 \n",
      "+ Test AUC at epoch 24 is: 98.420 \n",
      "\n",
      "\n",
      "72/72 - 62s - loss: 0.0835 - accuracy: 0.9690 - 62s/epoch - 864ms/step\n",
      "18/18 [==============================] - 4s 234ms/step - loss: 0.1550 - accuracy: 0.9598\n",
      "18/18 [==============================] - 4s 234ms/step\n",
      "18/18 [==============================] - 4s 239ms/step\n",
      "+ Test accuracy at epoch 25 is: 95.98 \n",
      "+ Test AUC at epoch 25 is: 98.680 \n",
      "\n",
      "\n"
     ]
    },
    {
     "name": "stderr",
     "output_type": "stream",
     "text": [
      "/tmp/ipykernel_4273/716637137.py:17: UserWarning: `Model.fit_generator` is deprecated and will be removed in a future version. Please use `Model.fit`, which supports generators.\n",
      "  model.fit_generator(dataAugmentation.flow(trainData, trainLabels, batch_size=batchSize),\n"
     ]
    },
    {
     "name": "stdout",
     "output_type": "stream",
     "text": [
      "71/71 - 65s - loss: 0.2201 - accuracy: 0.9240 - 65s/epoch - 911ms/step\n",
      "18/18 [==============================] - 4s 233ms/step - loss: 0.1429 - accuracy: 0.9545\n",
      "18/18 [==============================] - 4s 232ms/step\n",
      "18/18 [==============================] - 4s 234ms/step\n",
      "+ Test accuracy at epoch 26 is: 95.45 \n",
      "+ Test AUC at epoch 26 is: 98.710 \n",
      "\n",
      "\n",
      "72/72 - 62s - loss: 0.0853 - accuracy: 0.9646 - 62s/epoch - 863ms/step\n",
      "18/18 [==============================] - 4s 232ms/step - loss: 0.1540 - accuracy: 0.9563\n",
      "18/18 [==============================] - 4s 234ms/step\n",
      "18/18 [==============================] - 4s 233ms/step\n",
      "+ Test accuracy at epoch 27 is: 95.63 \n",
      "+ Test AUC at epoch 27 is: 98.600 \n",
      "\n",
      "\n"
     ]
    },
    {
     "name": "stderr",
     "output_type": "stream",
     "text": [
      "/tmp/ipykernel_4273/716637137.py:17: UserWarning: `Model.fit_generator` is deprecated and will be removed in a future version. Please use `Model.fit`, which supports generators.\n",
      "  model.fit_generator(dataAugmentation.flow(trainData, trainLabels, batch_size=batchSize),\n"
     ]
    },
    {
     "name": "stdout",
     "output_type": "stream",
     "text": [
      "71/71 - 65s - loss: 0.2536 - accuracy: 0.9095 - 65s/epoch - 912ms/step\n",
      "18/18 [==============================] - 4s 233ms/step - loss: 0.1398 - accuracy: 0.9510\n",
      "18/18 [==============================] - 4s 232ms/step\n",
      "18/18 [==============================] - 4s 232ms/step\n",
      "+ Test accuracy at epoch 28 is: 95.11 \n",
      "+ Test AUC at epoch 28 is: 98.870 \n",
      "+ Writing kaggle test results in : results/epoch-28-results.csv...\n",
      "7/7 [==============================] - 1s 206ms/step\n",
      "\n",
      "\n",
      "72/72 - 62s - loss: 0.0781 - accuracy: 0.9738 - 62s/epoch - 860ms/step\n",
      "18/18 [==============================] - 4s 232ms/step - loss: 0.1477 - accuracy: 0.9598\n",
      "18/18 [==============================] - 4s 237ms/step\n",
      "18/18 [==============================] - 4s 236ms/step\n",
      "+ Test accuracy at epoch 29 is: 95.98 \n",
      "+ Test AUC at epoch 29 is: 98.890 \n",
      "+ Writing kaggle test results in : results/epoch-29-results.csv...\n",
      "7/7 [==============================] - 1s 204ms/step\n",
      "\n",
      "\n"
     ]
    },
    {
     "name": "stderr",
     "output_type": "stream",
     "text": [
      "/tmp/ipykernel_4273/716637137.py:17: UserWarning: `Model.fit_generator` is deprecated and will be removed in a future version. Please use `Model.fit`, which supports generators.\n",
      "  model.fit_generator(dataAugmentation.flow(trainData, trainLabels, batch_size=batchSize),\n"
     ]
    },
    {
     "name": "stdout",
     "output_type": "stream",
     "text": [
      "71/71 - 65s - loss: 0.2278 - accuracy: 0.9148 - 65s/epoch - 911ms/step\n",
      "18/18 [==============================] - 4s 232ms/step - loss: 0.1789 - accuracy: 0.9388\n",
      "18/18 [==============================] - 4s 233ms/step\n",
      "18/18 [==============================] - 4s 232ms/step\n",
      "+ Test accuracy at epoch 30 is: 93.88 \n",
      "+ Test AUC at epoch 30 is: 98.730 \n",
      "\n",
      "\n",
      "72/72 - 62s - loss: 0.0770 - accuracy: 0.9729 - 62s/epoch - 859ms/step\n",
      "18/18 [==============================] - 4s 235ms/step - loss: 0.1523 - accuracy: 0.9598\n",
      "18/18 [==============================] - 4s 233ms/step\n",
      "18/18 [==============================] - 4s 233ms/step\n",
      "+ Test accuracy at epoch 31 is: 95.98 \n",
      "+ Test AUC at epoch 31 is: 98.710 \n",
      "\n",
      "\n"
     ]
    },
    {
     "name": "stderr",
     "output_type": "stream",
     "text": [
      "/tmp/ipykernel_4273/716637137.py:17: UserWarning: `Model.fit_generator` is deprecated and will be removed in a future version. Please use `Model.fit`, which supports generators.\n",
      "  model.fit_generator(dataAugmentation.flow(trainData, trainLabels, batch_size=batchSize),\n"
     ]
    },
    {
     "name": "stdout",
     "output_type": "stream",
     "text": [
      "71/71 - 65s - loss: 0.2476 - accuracy: 0.9069 - 65s/epoch - 911ms/step\n",
      "18/18 [==============================] - 4s 232ms/step - loss: 0.1383 - accuracy: 0.9528\n",
      "18/18 [==============================] - 4s 232ms/step\n",
      "18/18 [==============================] - 4s 231ms/step\n",
      "+ Test accuracy at epoch 32 is: 95.28 \n",
      "+ Test AUC at epoch 32 is: 98.930 \n",
      "+ Writing kaggle test results in : results/epoch-32-results.csv...\n",
      "7/7 [==============================] - 1s 206ms/step\n",
      "\n",
      "\n",
      "------------------------------------------------------------------------\n",
      "\n",
      "*** Printing our best validation results that we obtained in epoch 32 ...\n",
      "------------------------------------------------------------------------\n",
      "Accuracy: 95.28\n",
      "PrecisionNegative: 94.54\n",
      "PrecisionPositive: 96.06\n",
      "RecallNegative: 96.18\n",
      "RecallPositive: 94.37\n",
      "AUC Score: 98.93\n",
      "------------------------------------------------------------------------\n",
      "+ Printing confusion matrix...\n",
      "\n"
     ]
    },
    {
     "data": {
      "image/png": "[encoded data removed]",
      "text/plain": [
       "<Figure size 432x288 with 1 Axes>"
      ]
     },
     "metadata": {
      "needs_background": "light"
     },
     "output_type": "display_data"
    },
    {
     "name": "stdout",
     "output_type": "stream",
     "text": [
      "+ Printing ROC curve...\n",
      "\n"
     ]
    },
    {
     "data": {
      "image/png": "[encoded data removed]",
      "text/plain": [
       "<Figure size 1152x576 with 1 Axes>"
      ]
     },
     "metadata": {
      "needs_background": "light"
     },
     "output_type": "display_data"
    },
    {
     "data": {
      "text/plain": [
       "98.93"
      ]
     },
     "execution_count": 22,
     "metadata": {},
     "output_type": "execute_result"
    }
   ],
   "source": [
    "bestAcc = 0.0\n",
    "bestEpoch = 0\n",
    "bestAUC = 0\n",
    "bestAccPredictions, bestAccPredictionProbabilities = [], []\n",
    "\n",
    "print(\"+ Starting training. Each epoch can take about 2-5 minutes, hold tight!\")\n",
    "print(\"-----------------------------------------------------------------------\\n\")\n",
    "for epoch in range(epochs):\n",
    "    \n",
    "    #################################################### Model Training ###############################################################\n",
    "    if USE_DATA_AUGMENTATION == True:\n",
    "        # Use data augmentation in alternate epochs\n",
    "        if epoch % 2 == 0:\n",
    "            # Alternate between training with and without augmented data. Training just on the augmented data might not be the best way to go.\n",
    "            ############ You can change the \"epoch % 2\" to some other integer value to train on top of the augmented data \n",
    "            ############ after a certain number of epochs e.g \"epoch % 3\" will train on augmented data after every 2 epochs ############\n",
    "            model.fit_generator(dataAugmentation.flow(trainData, trainLabels, batch_size=batchSize),\n",
    "                        steps_per_epoch=len(trainData) / batchSize, epochs=1, verbose = 2)\n",
    "        else:\n",
    "            model.fit(trainData, trainLabels, batch_size=batchSize, epochs=1, verbose = 2)\n",
    "    else:\n",
    "        # Do not use data augmentation\n",
    "        model.fit(trainData, trainLabels, batch_size=batchSize, epochs=1, verbose = 2)\n",
    "    \n",
    "    \n",
    "    #################################################### Model Testing ###############################################################\n",
    "    # Calculate test accuracy\n",
    "    accuracy = round(model.evaluate(testData, testLabels)[1] * 100, 3)\n",
    "    predictions = model.predict(testData)\n",
    "    AccPredictionProbabilities = model.predict(testData)\n",
    "    AccPredictions = [1 if item[1] > item[0] else 0 for item in AccPredictionProbabilities]\n",
    "    epochAUC = calculateMetrics(AccPredictions, AccPredictionProbabilities, testLabels)\n",
    "    print(\"+ Test accuracy at epoch %d is: %.2f \" % (epoch, accuracy))\n",
    "    print(\"+ Test AUC at epoch %d is: %.3f \" % (epoch, epochAUC))\n",
    "    outputFile = open(\"results/Log.txt\", \"a\")\n",
    "    outputFile.write(\"Epoch-Accuracy-AUC \\t %d \\t %.2f \\t %.3f \\n\" % (epoch, accuracy,epochAUC))\n",
    "    outputFile.close()\n",
    "    \n",
    "    if epochAUC > bestAUC:\n",
    "        bestEpoch = epoch\n",
    "        bestAcc = accuracy\n",
    "        bestAUC = epochAUC\n",
    "        bestAccPredictions = [1 if item[1] > item[0] else 0 for item in predictions]\n",
    "        bestAccPredictionProbabilities = predictions\n",
    "        \n",
    "        ##################################### Store predictions for kaggle ###########################################################\n",
    "        kaggleResultsFileName = \"epoch-\" + str(epoch) + \"-results.csv\"\n",
    "        getKagglePredictions(model, kaggleTestImages, kaggleResultsFileName)\n",
    "        ##############################################################################################################################\n",
    "    print('\\n')\n",
    "print(\"------------------------------------------------------------------------\")\n",
    "\n",
    "\n",
    "##################################################### Printing best metrics ##########################################################\n",
    "# Get more metrics for the best performing epoch\n",
    "print(\"\\n*** Printing our best validation results that we obtained in epoch %d ...\" % bestEpoch)\n",
    "calculateMetricsAndPrint(bestAccPredictions, bestAccPredictionProbabilities, testLabels)"
   ]
  },
  {
   "cell_type": "markdown",
   "metadata": {
    "cell_id": "f68a8e17a4a04bafb84fd36bcfeb4058",
    "deepnote_cell_height": 70,
    "deepnote_cell_type": "markdown"
   },
   "source": [
    "## 4.4 Top n% Predictions"
   ]
  },
  {
   "cell_type": "code",
   "execution_count": 24,
   "metadata": {
    "cell_id": "843edb627e434333907895c8b2d1d525",
    "deepnote_cell_type": "code",
    "deepnote_to_be_reexecuted": false,
    "execution_millis": 115,
    "execution_start": 1673120486279,
    "source_hash": "e40791d1"
   },
   "outputs": [
    {
     "name": "stdout",
     "output_type": "stream",
     "text": [
      "+ Accuracy for top 5 percent predictions for healthy: 100.00, pneumonia: 100.00\n",
      "+ Accuracy for top 10 percent predictions for healthy: 100.00, pneumonia: 100.00\n",
      "+ Accuracy for top 20 percent predictions for healthy: 99.12, pneumonia: 100.00\n",
      "+ Accuracy for top 30 percent predictions for healthy: 99.41, pneumonia: 100.00\n"
     ]
    },
    {
     "data": {
      "image/png": "[encoded data removed]",
      "text/plain": [
       "<Figure size 1152x576 with 1 Axes>"
      ]
     },
     "metadata": {
      "needs_background": "light"
     },
     "output_type": "display_data"
    }
   ],
   "source": [
    "################################## You can change values inside the following list ###########################\n",
    "topNValues = [5, 10, 20, 30]\n",
    "##############################################################################################################\n",
    "\n",
    "accuraciesHealthy, accuraciesPneumonia = [], []\n",
    "for topn in topNValues:\n",
    "    accuracyHealthy, accuracyPneumonia = calculateClasswiseTopNAccuracy(testLabels, bestAccPredictionProbabilities, topn)\n",
    "    accuraciesHealthy.append(accuracyHealthy)\n",
    "    accuraciesPneumonia.append(accuracyPneumonia)\n",
    "    \n",
    "    print(\"+ Accuracy for top %d percent predictions for healthy: %.2f, pneumonia: %.2f\" % (topn, accuracyHealthy, accuracyPneumonia))\n",
    "    \n",
    "# Plot results\n",
    "x = np.arange(len(accuraciesHealthy))\n",
    "plt.plot(x, accuraciesHealthy, linewidth = 3, color = '#e01111')\n",
    "scatterHealthy = plt.scatter(x, accuraciesHealthy, marker = 's', s = 100, color = '#e01111')\n",
    "plt.plot(x, accuraciesPneumonia, linewidth = 3, color = '#0072ff')\n",
    "scatterPneumonia = plt.scatter(x, accuraciesPneumonia, marker = 'o', s = 100, color = '#0072ff')\n",
    "plt.xticks(x, topNValues, fontsize = 15)\n",
    "plt.yticks(fontsize = 15)\n",
    "plt.xlabel(\"Top N%\", fontsize = 15)\n",
    "plt.ylabel(\"Accuracy\", fontsize = 15)\n",
    "plt.legend([scatterHealthy, scatterPneumonia], [\"Accuracy for Healthy\", \"Accuracy for Pneumonia\"], fontsize = 17)\n",
    "plt.ylim(0, 110)\n",
    "plt.show()\n"
   ]
  },
  {
   "cell_type": "code",
   "execution_count": null,
   "metadata": {
    "cell_id": "06cb24c473744bebb527f3e95dbfa5ed",
    "deepnote_cell_type": "code",
    "deepnote_to_be_reexecuted": false,
    "execution_millis": 1,
    "execution_start": 1673120486391,
    "source_hash": "b623e53d"
   },
   "outputs": [],
   "source": []
  },
  {
   "cell_type": "markdown",
   "metadata": {
    "created_in_deepnote_cell": true,
    "deepnote_cell_type": "markdown"
   },
   "source": [
    "<a style='text-decoration:none;line-height:16px;display:flex;color:#5B5B62;padding:10px;justify-content:end;' href='https://deepnote.com?utm_source=created-in-deepnote-cell&projectId=2da7edf6-dcd9-4d26-8af1-b990b67baf63' target=\"_blank\">\n",
    "<img alt='Created in deepnote.com' style='display:inline;max-height:16px;margin:0px;margin-right:7.5px;' src='data:image/svg+xml;base64,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' > </img>\n",
    "Created in <span style='font-weight:600;margin-left:4px;'>Deepnote</span></a>"
   ]
  }
 ],
 "metadata": {
  "deepnote": [],
  "deepnote_execution_queue": [],
  "deepnote_notebook_id": "dd4311ed5b974bdbb60d73cc52110b91",
  "kernelspec": {
   "display_name": "Python 3 [3.10]",
   "language": "python",
   "name": "python3"
  },
  "language_info": {
   "codemirror_mode": {
    "name": "ipython",
    "version": 3
   },
   "file_extension": ".py",
   "mimetype": "text/x-python",
   "name": "python",
   "nbconvert_exporter": "python",
   "pygments_lexer": "ipython3",
   "version": "3.10.2"
  }
 },
 "nbformat": 4,
 "nbformat_minor": 4
}
